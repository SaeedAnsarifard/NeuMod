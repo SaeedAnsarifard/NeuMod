{
 "cells": [
  {
   "cell_type": "code",
   "execution_count": 1,
   "id": "511b61ec",
   "metadata": {},
   "outputs": [],
   "source": [
    "\"\"\"fraction of expected number of event over number of event assuming no oscilation (294.7 )\n",
    "\"\"\"\n",
    "import numpy as np\n",
    "import matplotlib.pyplot as plt\n",
    "\n",
    "from framework_pkg.total_flux import SuperKFlux\n",
    "\n",
    "plt.rcParams['text.usetex']=True\n",
    "plt.style.use('classic')"
   ]
  },
  {
   "cell_type": "code",
   "execution_count": 3,
   "id": "b9f3f1d4",
   "metadata": {},
   "outputs": [
    {
     "name": "stdout",
     "output_type": "stream",
     "text": [
      "[2.27575127]\n",
      "\n",
      "[1.5842011]\n"
     ]
    }
   ],
   "source": [
    "param = {'SinT12': 0.306, 'M12': 6.9e-5}\n",
    "\n",
    "total_flux    = SuperKFlux(threshold=4.5, first_day='2015,1,1', last_day='2016,1,1')\n",
    "spectrum_data = total_flux.modulation_data\n",
    "energy_obs    = total_flux.energy_obs\n",
    "\n",
    "flux_msw = total_flux.__getitem__(param, name=\"MSW\")\n",
    "flux_pseudodirac = total_flux.__getitem__(param, name=\"PseudoDirac\")\n",
    "\n",
    "print(flux_msw)\n",
    "print()\n",
    "print(flux_pseudodirac)"
   ]
  },
  {
   "cell_type": "code",
   "execution_count": null,
   "id": "b3ed8b66",
   "metadata": {},
   "outputs": [],
   "source": []
  }
 ],
 "metadata": {
  "kernelspec": {
   "display_name": "basecamp",
   "language": "python",
   "name": "python3"
  },
  "language_info": {
   "codemirror_mode": {
    "name": "ipython",
    "version": 3
   },
   "file_extension": ".py",
   "mimetype": "text/x-python",
   "name": "python",
   "nbconvert_exporter": "python",
   "pygments_lexer": "ipython3",
   "version": "3.9.12"
  }
 },
 "nbformat": 4,
 "nbformat_minor": 5
}
