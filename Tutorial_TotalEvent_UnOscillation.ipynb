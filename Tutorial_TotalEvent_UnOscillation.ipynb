{
 "cells": [
  {
   "cell_type": "code",
   "execution_count": 1,
   "id": "511b61ec",
   "metadata": {},
   "outputs": [
    {
     "name": "stdout",
     "output_type": "stream",
     "text": [
      "294.63483944691194\n"
     ]
    }
   ],
   "source": [
    "\"\"\" expected number of event per day per kilo ton assuming no oscillation \n",
    "(The value should be matched with 294.7 per day per kilo ton) \"\"\"\n",
    "\n",
    "import numpy as np\n",
    "\n",
    "from framework_pkg.framework import FrameWork\n",
    "from framework_pkg.survival_probablity import MSW\n",
    "\n",
    "frame      = FrameWork(resolution_correction=False, masked_val=0.1)\n",
    "spectrum   = frame.spectrum_nu\n",
    "t_recoil   = np.concatenate((np.logspace(-5,-2,30), frame.energy_recoil))\n",
    "electron_cross_section = frame._compute_cross_section(frame.energy_nu,t_recoil,1)\n",
    "moun_cross_section     = frame._compute_cross_section(frame.energy_nu,t_recoil,-1)\n",
    "SNO_norm = 1e-4 * frame.norm\n",
    "\n",
    "integral_electron_mc = np.zeros(len(t_recoil))\n",
    "k = 0\n",
    "for i in range (len(t_recoil)):\n",
    "    if t_recoil[i]<frame.energy_recoil[0]:\n",
    "        integral_electron_mc[i] = np.trapz(frame.spectrum_nu * electron_cross_section[i,:], frame.energy_nu)\n",
    "    else:\n",
    "        integral_electron_mc[i] = np.trapz(frame.spectrum_nu[k:] * electron_cross_section[i,k:], frame.energy_nu[k:])\n",
    "        k = k+1\n",
    "\n",
    "total_volume  = 32.5\n",
    "total_days    = 1\n",
    "target_number = frame.target_number\n",
    "mc_expected_event = total_days * total_volume * target_number * SNO_norm * np.trapz(integral_electron_mc,t_recoil)\n",
    "\n",
    "print(mc_expected_event)"
   ]
  }
 ],
 "metadata": {
  "kernelspec": {
   "display_name": "basecamp",
   "language": "python",
   "name": "python3"
  },
  "language_info": {
   "codemirror_mode": {
    "name": "ipython",
    "version": 3
   },
   "file_extension": ".py",
   "mimetype": "text/x-python",
   "name": "python",
   "nbconvert_exporter": "python",
   "pygments_lexer": "ipython3",
   "version": "3.9.12"
  }
 },
 "nbformat": 4,
 "nbformat_minor": 5
}
