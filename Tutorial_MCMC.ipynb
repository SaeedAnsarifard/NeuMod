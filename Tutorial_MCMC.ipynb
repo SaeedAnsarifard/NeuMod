{
 "cells": [
  {
   "cell_type": "code",
   "execution_count": 1,
   "id": "511b61ec",
   "metadata": {},
   "outputs": [
    {
     "name": "stdout",
     "output_type": "stream",
     "text": [
      "Warning!: Python module pyslha not found, disabling slha reading routines\n"
     ]
    }
   ],
   "source": [
    "from framework_pkg.framework import FrameWork\n",
    "\n",
    "import numpy as np\n",
    "import matplotlib.pyplot as plt\n",
    "from scipy import interpolate\n",
    "from cobaya.run import run\n",
    "\n",
    "from getdist.mcsamples import MCSamplesFromCobaya\n",
    "from getdist import plots, MCSamples\n",
    "import getdist.plots as gdplt\n",
    "\n",
    "from getdist import loadMCSamples\n",
    "\n",
    "import warnings\n",
    "warnings.filterwarnings('ignore')\n",
    "\n",
    "plt.rcParams['text.usetex']=True\n",
    "plt.style.use('classic')\n"
   ]
  },
  {
   "cell_type": "code",
   "execution_count": 2,
   "id": "5709f3ad",
   "metadata": {},
   "outputs": [],
   "source": [
    "param ={'SinT12'  : 0.308 ,\n",
    "        'T13'  : 8.57, \n",
    "        'mu1'  : 0.,\n",
    "        'mu2'  : 0., \n",
    "        'mu3'  : 0.  ,\n",
    "        'mdm'  : 1.089e-3 , \n",
    "        'alpha': 0.  ,\n",
    "        'eps' : 0.  ,\n",
    "        'alpha_eps' : 0.  ,\n",
    "        'M12'  : 6.9e-5 }\n",
    "\n",
    "\n",
    "frame_predicted_total_signal  = FrameWork(threshold=4.5,\n",
    "                                        efficiency_correction=True,\n",
    "                                        resolution_correction=False,\n",
    "                                    )\n",
    "\n",
    "data = np.loadtxt('./Data/modulation_data.txt')\n",
    "time_bins = np.unique(frame_predicted_total_signal.time_weights[:,0])\n",
    "sigma_p = 0.014\n",
    "mean_data = np.mean(data[:,1])"
   ]
  },
  {
   "cell_type": "code",
   "execution_count": 3,
   "id": "d5e3489c",
   "metadata": {},
   "outputs": [],
   "source": [
    "def LogLikelihood(sint12, m12, mu2, alpha, eps, alpha_eps, delta_p):\n",
    "    param['SinT12'] = sint12\n",
    "    param['M12'] = m12 * 1e-5\n",
    "\n",
    "\n",
    "    param['mu2'] = mu2\n",
    "    param['alpha'] = alpha\n",
    "    param['eps'] = eps\n",
    "    param['alpha_eps'] = alpha_eps\n",
    "\n",
    "    bin_prediction = np.zeros((len(time_bins)))\n",
    "    signal_fraction = frame_predicted_total_signal.__getitem__(param) \n",
    "    for i in range(len(time_bins)):\n",
    "        cond = frame_predicted_total_signal.time_weights[:,0] == time_bins[i]\n",
    "        T_k = np.sum(frame_predicted_total_signal.time_weights[cond,2:],axis=1)\n",
    "        bin_prediction[i] = (1/np.sum(T_k)) * np.sum(T_k * signal_fraction[cond])\n",
    "        \n",
    "\n",
    "    prediction = bin_prediction * ( 1 - delta_p * sigma_p)\n",
    "\n",
    "    cond1 = data[:,1] - mean_data >= prediction\n",
    "    cond2 = data[:,1] - mean_data < prediction\n",
    "    lower_part  = (data[cond1,1] - mean_data - prediction[cond1])**2 / data[cond1,3]**2\n",
    "    upper_part = (data[cond2,1] - mean_data - prediction[cond2])**2 / data[cond2,2]*82\n",
    "\n",
    "    return -0.5 * ( np.sum(lower_part) + np.sum(upper_part) + delta_p**2 ) "
   ]
  },
  {
   "cell_type": "code",
   "execution_count": null,
   "id": "ed0979f8",
   "metadata": {},
   "outputs": [],
   "source": [
    "# info = {\"likelihood\": {\"Chi2\": LogLikelihood},\n",
    "        \n",
    "#         \"params\": dict([(\"sint12\" , {\"prior\" : {\"min\": 0.28, \"max\": 0.36},\n",
    "#                                   \"latex\" : r\"\\sin(\\theta_{12})^2\"  \n",
    "#                                   }),\n",
    "#                         (\"m12\"    , {\"prior\" : {\"dist\": \"norm\", \"loc\": 7.54, \"scale\" : 0.2},\n",
    "#                                   \"latex\": r\"\\Delta m^2_{21} \\ \\rm 10^{-5} \\ eV^2\"  \n",
    "#                                   }),                     \n",
    "#                         (\"mu2\"    , {\"prior\" : {\"min\": 0, \"max\": 0.02},\n",
    "#                                    \"latex\" : r\"\\tile{\\mu}^2/2 \"  \n",
    "#                                    }),\n",
    "#                         (\"alpha\"  , {\"prior\" : {\"min\": 0, \"max\": np.pi},\n",
    "#                                    \"latex\" : r\"\\alpha \"  \n",
    "#                                    }),\n",
    "#                         (\"eps\"  , {\"prior\" : {\"min\": 0, \"max\": 0.5},\n",
    "#                                    \"latex\" : r\"\\epsilon \"  \n",
    "#                                    }),\n",
    "#                         (\"alpha_eps\"  , {\"prior\" : {\"min\": 0, \"max\": np.pi},\n",
    "#                                    \"latex\" : r\"\\alpha_\\epsilon \"  \n",
    "#                                    }),                        \n",
    "#                         (\"delta_p\", {\"prior\" : {\"min\": -1, \"max\": 1},\n",
    "#                                   \"latex\": r\"\\delta_p\"  \n",
    "#                                   })                                      \n",
    "#                         ]),\n",
    "        \n",
    "#         \"sampler\": {\"mcmc\": {\"Rminus1_stop\": 0.001, \"max_tries\": 100000}}\n",
    "#        }\n",
    "\n",
    "\n",
    "info = {\"likelihood\": {\"Chi2\": LogLikelihood},\n",
    "        \n",
    "        \"params\": dict([(\"sint12\" , {\"prior\" : {\"min\": 0.28, \"max\": 0.36},\n",
    "                                  \"latex\" : r\"\\sin(\\theta_{12})^2\"  \n",
    "                                  }),\n",
    "                        (\"m12\"    , {\"prior\" : {\"dist\": \"norm\", \"loc\": 7.54, \"scale\" : 0.2},\n",
    "                                  \"latex\": r\"\\Delta m^2_{21} \\ \\rm 10^{-5} \\ eV^2\"  \n",
    "                                  }),                     \n",
    "                        (\"mu2\"    , {\"prior\" : {\"min\": 0, \"max\": 0.02},\n",
    "                                   \"latex\" : r\"\\tilde{\\mu}^2/2 \"  \n",
    "                                   }),\n",
    "                        (\"alpha\"  , {\"prior\" : {\"min\": 0, \"max\": np.pi},\n",
    "                                   \"latex\" : r\"\\alpha \"  \n",
    "                                   }),\n",
    "                        # (\"eps\"  , {\"prior\" : {\"min\": 0, \"max\": 0.5},\n",
    "                        #            \"latex\" : r\"\\epsilon \"  \n",
    "                        #            }),\n",
    "\n",
    "                        (\"eps\"  , 0 ),\n",
    "\n",
    "                        # (\"alpha_eps\"  , {\"prior\" : {\"min\": 0, \"max\": np.pi},\n",
    "                        #            \"latex\" : r\"\\alpha_\\epsilon \"  \n",
    "                        #            }), \n",
    "\n",
    "                        (\"alpha_eps\",0),\n",
    "\n",
    "\n",
    "                        (\"delta_p\", {\"prior\" : {\"min\": -1, \"max\": 1},\n",
    "                                  \"latex\": r\"\\delta_p\"  \n",
    "                                  })                                      \n",
    "                        ]),\n",
    "        \n",
    "        \"sampler\": {\"mcmc\": {\"Rminus1_stop\": 0.001, \"max_tries\": 100000}}\n",
    "       }\n",
    "\n"
   ]
  },
  {
   "cell_type": "code",
   "execution_count": 51,
   "id": "b6092603",
   "metadata": {},
   "outputs": [
    {
     "data": {
      "image/png": "[encoded data removed]",
      "text/plain": [
       "<Figure size 560x560 with 10 Axes>"
      ]
     },
     "metadata": {},
     "output_type": "display_data"
    }
   ],
   "source": [
    "# Filled 2D comparison plot with legend\n",
    "#gd_sample = MCSamplesFromCobaya(updated_info, sampler.products()[\"sample\"])\n",
    "\n",
    "\n",
    "# Path to your Cobaya output folder (replace with your actual path)\n",
    "output_folder = \"output7/run_info\"\n",
    "\n",
    "# Load the MCMC samples\n",
    "samples = loadMCSamples(output_folder)\n",
    "\n",
    "# param_names = samples.getParamNames()\n",
    "\n",
    "# print(\"Current labels:\", [p.label for p in param_names.names])\n",
    "\n",
    "# # print(\"Parameter names:\", param_names.names)\n",
    "# # print(\"LaTeX labels:\", param_names.labels)\n",
    "\n",
    "# # Fix a specific parameter's LaTeX label (e.g., replace \"omegab\" with correct LaTeX)\n",
    "# param_names.setLabels({\"mu2\" :  \"\\tilde{\\mu}^2/2 \"} )\n",
    "    \n",
    "# print( param_names.parWithName(\"mu2\").label)\n",
    "\n",
    "\n",
    "\n",
    "# param_names = samples.getParamNames().names\n",
    "# for p in param_names:\n",
    "#     if p.name == \"mu2\":\n",
    "#         p.label = r\"\\tilde{\\mu}^2/2 \"\n",
    "\n",
    "gdplot = gdplt.get_subplot_plotter(width_inch=7)\n",
    "\n",
    "gdplot.settings.scaling = False\n",
    "# gdplot.triangle_plot(samples, [\"sint12\",\"m12\",\"mu2\", \"alpha\", \"delta_p\"], filled=True, \n",
    "#                      param_limits={'t12': (0.28, 0.36), \n",
    "#                                    'm12': (7, 8),\n",
    "#                                    'delta': (-0.2, 0.2),\n",
    "#                                    'mum2': (0, 1.5)\n",
    "#                                   },lw=2)\n",
    "\n",
    "\n",
    "#gdplot.triangle_plot(samples, [\"mu2\", \"alpha\", \"delta_p\", \"mdm\"], filled=True,lw=2)\n",
    "gdplot.triangle_plot(samples, [\"mu2\", \"alpha\",\"eps\",\"alpha_eps\"], filled=True,lw=2)\n",
    "\n",
    "# gdplot.export('./bayes_1_nopriors.pdf')"
   ]
  },
  {
   "cell_type": "code",
   "execution_count": 28,
   "id": "3605ff56",
   "metadata": {},
   "outputs": [
    {
     "name": "stderr",
     "output_type": "stream",
     "text": [
      "WARNING:root:auto bandwidth for mdm very small or failed (h=0.0013759471421394872,N_eff=364.90664813441435). Using fallback (h=0.0019155066940537847)\n"
     ]
    },
    {
     "name": "stdout",
     "output_type": "stream",
     "text": [
      "[3.05803043e-01 7.48203980e+00 3.17553057e-02 1.96701709e+00\n",
      " 1.41658568e-01 1.51973609e+00 5.00935222e-02 9.06245686e+02\n",
      " 3.38491641e+00 3.38491641e+00 8.40444764e+02 8.40444764e+02]\n"
     ]
    },
    {
     "data": {
      "image/png": "[encoded data removed]",
      "text/plain": [
       "<Figure size 360x360 with 1 Axes>"
      ]
     },
     "metadata": {},
     "output_type": "display_data"
    }
   ],
   "source": [
    "g = plots.get_single_plotter(width_inch=4.5, ratio=1)\n",
    "g.settings.prob_y_ticks = [0.1,0.3,0.6,0.9]\n",
    "g.settings.prob_label = r'$P/P_{\\rm max}$'\n",
    "#g.plot_1d([samples],\"mu2\",lims=[0, 0.1],ls=['-'],lws=2,colors=['olive'])\n",
    "g.plot_1d([samples],\"mdm\",lims=[800, 1000],ls=['-'],lws=2,colors=['olive'])\n",
    "#g.add_legend(['2020-2021','2012-2013'], legend_loc='upper right')\n",
    "g.settings.scaling_factor = 1.\n",
    "\n",
    "\n",
    "mean   = samples.getMeans()\n",
    "\n",
    "print(mean)"
   ]
  },
  {
   "cell_type": "code",
   "execution_count": 48,
   "id": "aafc70bd",
   "metadata": {},
   "outputs": [
    {
     "name": "stdout",
     "output_type": "stream",
     "text": [
      "[1.e-04 1.e-03 1.e-02 1.e-01 1.e+00]\n"
     ]
    },
    {
     "data": {
      "image/png": "[encoded data removed]",
      "text/plain": [
       "<Figure size 360x360 with 1 Axes>"
      ]
     },
     "metadata": {},
     "output_type": "display_data"
    }
   ],
   "source": [
    "from matplotlib.ticker import ScalarFormatter\n",
    "\n",
    "output_folder = \"output3/run_info\"\n",
    "\n",
    "# Load the MCMC samples\n",
    "samples = loadMCSamples(output_folder)\n",
    "\n",
    "g = plots.get_single_plotter(width_inch=4.5, ratio=1)\n",
    "g.settings.prob_y_ticks = [0.1,0.3,0.6,0.9]\n",
    "g.settings.prob_label = r'$P/P_{\\rm max}$'\n",
    "g.plot_1d([samples],\"mu2\",lims=[5e-3, 0.05],ls=['-'],lws=2,colors=['olive'])\n",
    "#g.add_legend(['2020-2021','2012-2013'], legend_loc='upper right')\n",
    "g.settings.scaling_factor = 1.\n",
    "\n",
    "\n",
    "\n",
    "# # Access the underlying matplotlib axes to modify ticks\n",
    "ax = g.fig.axes[0]  # Get the current axes\n",
    "ax.set_xscale('log')\n",
    "\n",
    "current_ticks = ax.get_xticks() \n",
    "\n",
    "\n",
    "\n",
    "print(current_ticks)\n",
    "\n",
    "\n",
    "\n",
    "#ax.set_xlabel(r'$\\mu_2[\\rm \\ GeV^{-1} ]$', fontsize=16)\n",
    "ax.set_xlabel(r'$\\tilde{\\mu}^2_2/2$', fontsize=16)\n",
    "\n",
    "#log_ticks = [1.8e-4, 1.8e-2]\n",
    "\n",
    "\n",
    "# Compute labels: √(2e-7/0.036 × x) for each tick\n",
    "#new_labels = [f\"{1e-7*np.sqrt(2/ 0.036 * x):.1e}\" for x in log_ticks]\n",
    "new_labels = [f\"{np.sqrt(2/ 0.036 * x):.1e}\" for x in current_ticks]\n",
    "\n",
    "\n",
    "#new_labels = [r'$10^{-8}$', r'$ 10^{-7}$']\n",
    "\n",
    "\n",
    "\n",
    "\n",
    "\n",
    "# formatter = ScalarFormatter(useMathText=True)\n",
    "# formatter.set_scientific(True)\n",
    "# #formatter.set_powerlimits((0, 0))  # Always use sci notation\n",
    "# ax.xaxis.set_major_formatter(formatter)\n",
    "\n",
    "# Apply ticks and labels\n",
    "#ax.set_xticks(log_ticks)\n",
    "ax.set_xticks(current_ticks)\n",
    "ax.set_xlim(2e-4,1e-1)\n",
    "#ax.set_xlim(2.7e-2,0.1)\n",
    "#ax.set_ylim(0,0.1)\n",
    "\n",
    "\n",
    "new_labels = [r'$2.4\\times 10^{-8}$',r'$2.4\\times 10^{-8}$', r'$ 7.5\\times 10^{-8}$', r'$ 2.4\\times 10^{-7}$',r'$ 2.4\\times 10^{-7}$']\n",
    "#ax.set_xticklabels(new_labels, fontsize=15)\n",
    "\n",
    "\n",
    "# new_ticks = np.sqrt(2e-7/0.036 * current_ticks)\n",
    "# ax.set_xticks(current_ticks)\n",
    "# ax.set_xticklabels([f\"{val:.2e}\" for val in new_ticks])\n",
    "\n",
    "\n",
    "# #ax.ticklabel_format(axis='x', style='sci', scilimits=(0, 0), useMathText=True)\n",
    "# # Optionally rotate x-tick labels if needed\n",
    "# #ax.tick_params(axis='x', rotation=45)  \n",
    "\n",
    "# Adjust layout to prevent label cutoff\n",
    "g.fig.tight_layout()\n",
    "\n",
    "\n",
    "# #g.settings.axes_fontsize=12\n",
    "g.export('posteriors_tot2.pdf')"
   ]
  },
  {
   "cell_type": "code",
   "execution_count": null,
   "id": "304af112",
   "metadata": {},
   "outputs": [],
   "source": [
    "#best fit and covariance matrix and errors\n",
    "mean   = gd_sample.getMeans()\n",
    "covmat = gd_sample.getCovMat().matrix[:, :]\n",
    "print(\"Mean:\")\n",
    "print(mean)\n",
    "print(\"Covariance matrix:\")\n",
    "print(covmat)\n",
    "print('####################')\n",
    "\n",
    "stats = gd_sample.getMargeStats()\n",
    "lims1 = stats.parWithName('t12').limits\n",
    "lims2 = stats.parWithName('mum2').limits\n",
    "lims3 = stats.parWithName('m12').limits\n",
    "lims4 = stats.parWithName('delta').limits\n",
    "\n",
    "for conf, lim1, lim2, lim3, lim4 in zip(gd_sample.contours, lims1,lims2,lims3,lims4):\n",
    "    print('t12 %s%% lower: %.1f upper: %.1f (%s)'%(conf, lim1.lower, lim1.upper, lim1.limitType()))\n",
    "    print('mum2 %s%% lower: %.2f upper: %.2f (%s)'%(conf, lim2.lower, lim2.upper, lim2.limitType()))\n",
    "    print('m12 %s%% lower: %.2f upper: %.2f (%s)'%(conf, lim3.lower, lim3.upper, lim3.limitType()))\n",
    "    print('delta %s%% lower: %.2f upper: %.2f (%s)'%(conf, lim3.lower, lim3.upper, lim3.limitType()))\n",
    "    print('####################')"
   ]
  },
  {
   "cell_type": "code",
   "execution_count": 35,
   "id": "e7a84ad1",
   "metadata": {},
   "outputs": [
    {
     "name": "stdout",
     "output_type": "stream",
     "text": [
      "<getdist.mcsamples.MCSamples object at 0x15e9995e0>\n"
     ]
    }
   ],
   "source": [
    "print(samples)"
   ]
  },
  {
   "cell_type": "code",
   "execution_count": null,
   "id": "6093968b",
   "metadata": {},
   "outputs": [],
   "source": []
  }
 ],
 "metadata": {
  "kernelspec": {
   "display_name": "peanuts",
   "language": "python",
   "name": "python3"
  },
  "language_info": {
   "codemirror_mode": {
    "name": "ipython",
    "version": 3
   },
   "file_extension": ".py",
   "mimetype": "text/x-python",
   "name": "python",
   "nbconvert_exporter": "python",
   "pygments_lexer": "ipython3",
   "version": "3.9.20"
  }
 },
 "nbformat": 4,
 "nbformat_minor": 5
}
