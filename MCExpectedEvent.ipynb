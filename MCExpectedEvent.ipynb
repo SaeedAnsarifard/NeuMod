{
 "cells": [
  {
   "cell_type": "code",
   "execution_count": 1,
   "id": "511b61ec",
   "metadata": {},
   "outputs": [
    {
     "name": "stdout",
     "output_type": "stream",
     "text": [
      "293.4665258474277\n"
     ]
    }
   ],
   "source": [
    "\"\"\"expected number of event per day assuming no oscilation (294.7 )\"\"\"\n",
    "\n",
    "from framework_chatgpt import FrameWork\n",
    "\n",
    "import numpy as np\n",
    "import pandas as pd\n",
    "\n",
    "\n",
    "frame      = FrameWork(resolution_correction=False, masked_val=0.1)\n",
    "spectrum   = frame.spectrum_nu\n",
    "\n",
    "e_neutrino = frame.energy_nu\n",
    "t_recoil   = e_neutrino/(1+0.5/(2*e_neutrino))\n",
    "\n",
    "\n",
    "electron_cross_section = frame._compute_cross_section(e_neutrino,t_recoil,1)\n",
    "moun_cross_section = frame._compute_cross_section(e_neutrino,t_recoil,-1)\n",
    "\n",
    "\n",
    "integral_electron = np.zeros(len(t_recoil))\n",
    "integral_moun = np.zeros(len(t_recoil))\n",
    "for i in range (len(t_recoil)):\n",
    "    integral_electron[i] = np.trapz(spectrum[i:]*electron_cross_section[i,i:],e_neutrino[i:])\n",
    "    integral_moun[i] = np.trapz(spectrum[i:]*moun_cross_section[i,i:],e_neutrino[i:])\n",
    "\n",
    "total_volume  = 32.5\n",
    "total_days    = 1\n",
    "\n",
    "\n",
    "target_number = (10/18)*(1/1.67)*6.*6.*24. #per day per kilo ton 10^35\n",
    "\n",
    "print(total_days*total_volume*target_number*5.25e-4*np.trapz(integral_electron,t_recoil))"
   ]
  },
  {
   "cell_type": "code",
   "execution_count": null,
   "id": "e7a84ad1",
   "metadata": {},
   "outputs": [],
   "source": []
  }
 ],
 "metadata": {
  "kernelspec": {
   "display_name": "Python 3 (ipykernel)",
   "language": "python",
   "name": "python3"
  },
  "language_info": {
   "codemirror_mode": {
    "name": "ipython",
    "version": 3
   },
   "file_extension": ".py",
   "mimetype": "text/x-python",
   "name": "python",
   "nbconvert_exporter": "python",
   "pygments_lexer": "ipython3",
   "version": "3.9.12"
  }
 },
 "nbformat": 4,
 "nbformat_minor": 5
}
