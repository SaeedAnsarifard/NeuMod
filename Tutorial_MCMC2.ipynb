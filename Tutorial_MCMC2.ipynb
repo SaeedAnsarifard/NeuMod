{
 "cells": [
  {
   "cell_type": "code",
   "execution_count": 1,
   "id": "511b61ec",
   "metadata": {},
   "outputs": [
    {
     "name": "stdout",
     "output_type": "stream",
     "text": [
      "Warning!: Python module pyslha not found, disabling slha reading routines\n"
     ]
    }
   ],
   "source": [
    "from framework_pkg.framework import FrameWork\n",
    "\n",
    "import numpy as np\n",
    "import pandas as pd\n",
    "import matplotlib.pyplot as plt\n",
    "from scipy import interpolate\n",
    "from cobaya.run import run\n",
    "\n",
    "from getdist.mcsamples import MCSamplesFromCobaya\n",
    "from getdist import plots, MCSamples\n",
    "import getdist.plots as gdplt\n",
    "\n",
    "import warnings\n",
    "warnings.filterwarnings('ignore')\n",
    "\n",
    "plt.rcParams['text.usetex']=True\n",
    "plt.style.use('classic')\n"
   ]
  },
  {
   "cell_type": "code",
   "execution_count": 2,
   "id": "9be12ad8",
   "metadata": {},
   "outputs": [],
   "source": [
    "param ={'SinT12'  : 0.310 ,\n",
    "        'T13'  : 8.57, \n",
    "        'mu1'  : 0.,\n",
    "        'mu2'  : 0., \n",
    "        'mu3'  : 0.  ,\n",
    "        'mdm'  : 1.089e-3 , \n",
    "        'alpha': 0.  ,\n",
    "        'eps' : 0.  ,\n",
    "        'alpha_eps' : 0.  ,\n",
    "        'M12'  : 6.9e-5 }\n",
    "\n",
    "# #add='./Data/time_exposures.txt',\n",
    "# frame_total  = FrameWork(threshold=3.5,\n",
    "#                             efficiency_correction=True,\n",
    "#                             resolution_correction=False,\n",
    "#                                    )\n",
    "\n",
    "\n",
    "# data_day = 2.284\n",
    "# error_day = np.sqrt(0.020**2 + 0.032**2)\n",
    "\n",
    "# data_night = 2.341\n",
    "# error_night = np.sqrt(0.019**2 + 0.033**2)\n",
    "\n",
    "\n",
    "# T_day = frame_total.time_day[:,2]\n",
    "# T_night = frame_total.time_day[:,3]\n",
    "\n",
    "# sigma_p = 0.014\n",
    "# #delta_p = 0.54\n",
    "\n",
    "# def LogLikelihood(sint12, m12, mu2, eps, delta_p):\n",
    "#     param['SinT12'] = sint12\n",
    "#     param['M12'] = m12 * 1e-5\n",
    "\n",
    "#     param['mu2'] = mu2\n",
    "#     param['alpha'] = 0.73\n",
    "#     param['eps'] = eps\n",
    "#     param['alpha_eps'] = 2.24\n",
    "\n",
    "#     param['mdm'] = 0.84 * 2e-4\n",
    "\n",
    "#     predicted_total_signal = frame_total.__getitem__(param) \n",
    "#     R_day = (1 / np.sum(T_day)) * np.sum(5.25 * T_day * predicted_total_signal['period0'][:,0])\n",
    "#     R_night = (1 / np.sum(T_night)) * np.sum(5.25 * T_night * predicted_total_signal['period1'][:,0])\n",
    "\n",
    "#     predict_day = R_day * ( 1 - delta_p * sigma_p)\n",
    "#     predict_night = R_night * ( 1 - delta_p * sigma_p)\n",
    "\n",
    "#     return -0.5 * ( (predict_day - data_day)**2/error_day**2 + (predict_night - data_night)**2/error_night**2 + delta_p**2 ) "
   ]
  },
  {
   "cell_type": "code",
   "execution_count": 3,
   "id": "e75db61b",
   "metadata": {},
   "outputs": [],
   "source": [
    "frame_spectrum  = FrameWork(threshold=3.5,\n",
    "                            efficiency_correction=False,\n",
    "                            resolution_correction=True,\n",
    "                                   )\n",
    "\n",
    "spectrum_data = frame_spectrum.spectrum_data\n",
    "energy_obs    = frame_spectrum.energy_obs\n",
    "\n",
    "data_dn = np.loadtxt('./Data/B8_SuperK_DN_2023.txt')\n",
    "\n",
    "def prediction_prepration(frame_spectrum, param):\n",
    "    predicted_spectrum = frame_spectrum.__getitem__(param)\n",
    "\n",
    "    daily_exposure, R_daily = frame_spectrum._result_daily_basis(predicted_spectrum)\n",
    "    \n",
    "    periods = frame_spectrum.time_periods\n",
    "    num_periods = len(periods)\n",
    "    num_states = frame_spectrum.weight.shape[0]\n",
    "    num_days = frame_spectrum.time_day.shape[0]\n",
    "\n",
    "    periods_exposure = np.zeros((num_periods, num_days))\n",
    "    R_periods = np.zeros((num_periods, num_days, num_states))\n",
    "\n",
    "    for i in range (num_periods):\n",
    "        periods_exposure[i] = frame_spectrum.time_day[:,2+i]\n",
    "        for j in range(num_states):\n",
    "            R_periods[i,:,j] = predicted_spectrum[periods[i]][:,j]\n",
    "\n",
    "\n",
    "    R_day_daily = R_periods[0]\n",
    "    R_night_daily = R_periods[1]\n",
    "    day_exposure = periods_exposure[0]\n",
    "    night_exposure = periods_exposure[1]\n",
    "\n",
    "    time_bins = np.array([1])\n",
    "    prediction = [R_day_daily, R_daily, R_night_daily]\n",
    "    T_k = [day_exposure, daily_exposure, night_exposure]\n",
    "\n",
    "    bin_prediction = np.zeros((len(prediction), len(time_bins), num_states))\n",
    "    for i in range(len(time_bins)):\n",
    "        cond = frame_spectrum.time_day[:,0] == time_bins[i]\n",
    "        for k in range (num_states):\n",
    "            for j in range (len(prediction)):\n",
    "                bin_prediction[j,i,k] = (1/np.sum(T_k[j][cond])) * np.sum(T_k[j][cond] * prediction[j][cond,k])\n",
    "\n",
    "    return bin_prediction\n",
    "\n",
    "\n",
    "def LogLikelihood(sint12, m12, mu2, eps):\n",
    "    param['SinT12'] = sint12\n",
    "    param['M12'] = m12 * 1e-5\n",
    "\n",
    "    param['mu2'] = mu2\n",
    "    param['alpha'] = 0.73\n",
    "    param['eps'] = eps\n",
    "    param['alpha_eps'] = 2.24\n",
    "\n",
    "    param['mdm'] = 0.84 * 2e-4\n",
    "\n",
    "    bin_prediction = prediction_prepration(frame_spectrum, param)\n",
    "\n",
    "    a_symmetry = np.zeros(energy_obs .shape[0])\n",
    "    for k in range (energy_obs.shape[0]):\n",
    "        a_symmetry[k] = 2 * (bin_prediction[0,0,k] - bin_prediction[2,0,k]) / (bin_prediction[0,0,k] + bin_prediction[2,0,k])\n",
    "\n",
    "    chi2 = np.sum((a_symmetry - data_dn[:,2])**2/data_dn[:,3]**2)\n",
    "\n",
    "    return -0.5 * chi2"
   ]
  },
  {
   "cell_type": "code",
   "execution_count": null,
   "id": "d2579616",
   "metadata": {},
   "outputs": [
    {
     "name": "stdout",
     "output_type": "stream",
     "text": [
      "-13.371174231791294\n"
     ]
    }
   ],
   "source": [
    "print(LogLikelihood(0.310, 7.51, 0., 0.))\n",
    "\n",
    "print(LogLikelihood(0.310, 7.51, 0., 0.))"
   ]
  },
  {
   "cell_type": "code",
   "execution_count": 5,
   "id": "0c4d18e3",
   "metadata": {},
   "outputs": [],
   "source": [
    "info = {\"likelihood\": {\"Chi2\": LogLikelihood},\n",
    "        \n",
    "        \"params\": dict([(\"sint12\" , {\"prior\" : {\"dist\": 'norm', \"loc\": 0.310, \"scale\" : 0.012},\n",
    "                                  \"latex\" : r\"\\sin(\\theta_{12})^2\"  \n",
    "                                  }),\n",
    "\n",
    "                        \n",
    "                        (\"m12\"    , {\"prior\" : {\"dist\": 'norm', \"loc\": 7.51, \"scale\": 0.19},\n",
    "                                  \"latex\": r\"\\Delta m^2_{21} \\ \\rm 10^{-5} \\ eV^2\"  \n",
    "                                  }), \n",
    "                        \n",
    "                        (\"mu2\"    , {\"prior\" : {\"min\": 0, \"max\": 0.15},\n",
    "                                   \"latex\" : r\"\\tilde{\\mu}^2/2 \"  \n",
    "                                   }),\n",
    "                        \n",
    "                        # (\"alpha\"  , {\"prior\" : {\"min\": 0, \"max\": np.pi},\n",
    "                        #            \"latex\" : r\"\\alpha \"  \n",
    "                        #            }),\n",
    "\n",
    "                      \n",
    "                        (\"eps\"  , {\"prior\" : {\"min\": 0, \"max\": 1.},\n",
    "                                   \"latex\" : r\"\\epsilon \"  \n",
    "                                   })\n",
    "\n",
    "                        # (\"alpha_eps\"  , {\"prior\" : {\"min\": 0, \"max\": np.pi},\n",
    "                        #            \"latex\" : r\"\\alpha_\\epsilon \"  \n",
    "                        #            }), \n",
    "\n",
    "                        # (\"delta_p\", {\"prior\" : {\"min\": -3, \"max\": 3},\n",
    "                        #           \"latex\": r\"\\delta_p\"  \n",
    "                        #           }) \n",
    "\n",
    "                        # (\"mdm\", {\"prior\" : {\"min\": 1, \"max\": 10},\n",
    "                        #            \"latex\": r\"m_{\\rm dm}\"  \n",
    "                        #           }) \n",
    "                        \n",
    "                        ]),\n",
    "        \n",
    "        \"sampler\": {\"mcmc\": {\"Rminus1_stop\": 0.01, \"max_tries\": 100000 }},\n",
    "        \"output\" : \"output10/run_info\"\n",
    "       }"
   ]
  },
  {
   "cell_type": "code",
   "execution_count": 7,
   "id": "cda34843",
   "metadata": {},
   "outputs": [],
   "source": [
    "#updated_info,sampler = run(info)"
   ]
  },
  {
   "cell_type": "code",
   "execution_count": 10,
   "id": "b6092603",
   "metadata": {},
   "outputs": [
    {
     "data": {
      "image/png": "[encoded data removed]",
      "text/plain": [
       "<Figure size 560x560 with 10 Axes>"
      ]
     },
     "metadata": {},
     "output_type": "display_data"
    }
   ],
   "source": [
    "# Filled 2D comparison plot with legend\n",
    "gd_sample = MCSamplesFromCobaya(updated_info, sampler.products()[\"sample\"])\n",
    "\n",
    "gdplot = gdplt.get_subplot_plotter(width_inch=7)\n",
    "\n",
    "gdplot.settings.scaling = False\n",
    "gdplot.triangle_plot(gd_sample, [\"t12\",\"m12\",\"delta\",\"mum2\"], filled=True, \n",
    "                     param_limits={'t12': (0.28, 0.36), \n",
    "                                   'm12': (7, 8),\n",
    "                                   'delta': (-0.2, 0.2),\n",
    "                                   'mum2': (0, 1.5)\n",
    "                                  },lw=2)\n",
    "\n",
    "#gdplot.export('./bayes_1_nopriors.pdf')"
   ]
  },
  {
   "cell_type": "code",
   "execution_count": null,
   "id": "304af112",
   "metadata": {},
   "outputs": [],
   "source": [
    "#best fit and covariance matrix and errors\n",
    "mean   = gd_sample.getMeans()\n",
    "covmat = gd_sample.getCovMat().matrix[:, :]\n",
    "print(\"Mean:\")\n",
    "print(mean)\n",
    "print(\"Covariance matrix:\")\n",
    "print(covmat)\n",
    "print('####################')\n",
    "\n",
    "stats = gd_sample.getMargeStats()\n",
    "lims1 = stats.parWithName('t12').limits\n",
    "lims2 = stats.parWithName('mum2').limits\n",
    "lims3 = stats.parWithName('m12').limits\n",
    "lims4 = stats.parWithName('delta').limits\n",
    "\n",
    "for conf, lim1, lim2, lim3, lim4 in zip(gd_sample.contours, lims1,lims2,lims3,lims4):\n",
    "    print('t12 %s%% lower: %.1f upper: %.1f (%s)'%(conf, lim1.lower, lim1.upper, lim1.limitType()))\n",
    "    print('mum2 %s%% lower: %.2f upper: %.2f (%s)'%(conf, lim2.lower, lim2.upper, lim2.limitType()))\n",
    "    print('m12 %s%% lower: %.2f upper: %.2f (%s)'%(conf, lim3.lower, lim3.upper, lim3.limitType()))\n",
    "    print('delta %s%% lower: %.2f upper: %.2f (%s)'%(conf, lim3.lower, lim3.upper, lim3.limitType()))\n",
    "    print('####################')"
   ]
  },
  {
   "cell_type": "code",
   "execution_count": 20,
   "id": "e7a84ad1",
   "metadata": {},
   "outputs": [
    {
     "name": "stdout",
     "output_type": "stream",
     "text": [
      "0.10536051565782634\n"
     ]
    }
   ],
   "source": [
    "logp3 = -np.log(6)-np.log(0.15)-np.log(1)\n",
    "print(logp3)"
   ]
  },
  {
   "cell_type": "code",
   "execution_count": 22,
   "id": "d8704db0",
   "metadata": {},
   "outputs": [
    {
     "name": "stdout",
     "output_type": "stream",
     "text": [
      "2.6136769871615537 0.629604307966009\n",
      "3.3486418107853893\n"
     ]
    }
   ],
   "source": [
    "logp1 = - 0.5 * (0.310 - 0.294)**2/0.012**2 - np.log(0.012*2.51)\n",
    "logp2 = - 0.5 * (7.51 - 7.42)**2/0.19**2 -np.log(0.19*np.sqrt(2 * np.pi))\n",
    "print(logp1,logp2)\n",
    "print( logp1 + logp2 + logp3 )"
   ]
  },
  {
   "cell_type": "code",
   "execution_count": null,
   "id": "195c8a0d",
   "metadata": {},
   "outputs": [],
   "source": []
  }
 ],
 "metadata": {
  "kernelspec": {
   "display_name": "peanuts",
   "language": "python",
   "name": "python3"
  },
  "language_info": {
   "codemirror_mode": {
    "name": "ipython",
    "version": 3
   },
   "file_extension": ".py",
   "mimetype": "text/x-python",
   "name": "python",
   "nbconvert_exporter": "python",
   "pygments_lexer": "ipython3",
   "version": "3.9.20"
  }
 },
 "nbformat": 4,
 "nbformat_minor": 5
}
