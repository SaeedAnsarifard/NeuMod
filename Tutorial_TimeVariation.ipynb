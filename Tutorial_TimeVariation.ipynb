{
 "cells": [
  {
   "cell_type": "code",
   "execution_count": null,
   "id": "511b61ec",
   "metadata": {},
   "outputs": [],
   "source": [
    "# \"\"\"fraction of expected number of event over number of event assuming no oscilation (294.7 )\n",
    "# \"\"\"\n",
    "# import numpy as np\n",
    "\n",
    "# from framework_pkg.framework import FrameWork\n",
    "# from framework_pkg.survival_probablity import MSW\n",
    "\n",
    "# frame      = FrameWork(resolution_correction=False, masked_val=0.1)\n",
    "# spectrum   = frame.spectrum_nu\n",
    "# t_recoil   = np.concatenate((np.logspace(-5,-2,30), frame.energy_recoil))\n",
    "# electron_cross_section = frame._compute_cross_section(frame.energy_nu,t_recoil,1)\n",
    "# moun_cross_section     = frame._compute_cross_section(frame.energy_nu,t_recoil,-1)\n",
    "# SNO_norm = 1e-4 * frame.norm\n"
   ]
  },
  {
   "cell_type": "code",
   "execution_count": 1,
   "id": "8d12e2e4",
   "metadata": {},
   "outputs": [],
   "source": [
    "import numpy as np\n",
    "import matplotlib.pyplot as plt\n",
    "\n",
    "from framework_pkg.total_flux import SuperKFlux\n",
    "\n",
    "plt.rcParams['text.usetex']=True\n",
    "plt.style.use('classic')"
   ]
  },
  {
   "cell_type": "code",
   "execution_count": 2,
   "id": "0563237b",
   "metadata": {},
   "outputs": [],
   "source": [
    "param = {'SinT12': 0.308, 'M12': 6.9e-5}\n",
    "\n",
    "MSWSpectrum   = SuperKFlux()\n",
    "spectrum_data = MSWSpectrum.modulation_data\n",
    "energy_obs    = MSWSpectrum.energy_obs\n",
    "\n",
    "flux_msw = MSWSpectrum.__getitem__(param, name=\"MSW\")\n",
    "flux_pseudodirac = MSWSpectrum.__getitem__(param, name=\"PseudoDirac\")"
   ]
  },
  {
   "cell_type": "code",
   "execution_count": 3,
   "id": "8d02dc54",
   "metadata": {},
   "outputs": [
    {
     "name": "stdout",
     "output_type": "stream",
     "text": [
      "[0.43930183]\n",
      "\n",
      "[1.56588905]\n"
     ]
    }
   ],
   "source": [
    "print(flux_msw/5.25)\n",
    "print()\n",
    "print(flux_pseudodirac)"
   ]
  },
  {
   "cell_type": "code",
   "execution_count": null,
   "id": "89a0b6af",
   "metadata": {},
   "outputs": [],
   "source": [
    "        # if do_binning:\n",
    "        #     self.data = self._bin_data(self.data)"
   ]
  },
  {
   "cell_type": "code",
   "execution_count": 2,
   "id": "3737967d",
   "metadata": {},
   "outputs": [
    {
     "name": "stdout",
     "output_type": "stream",
     "text": [
      "294.63483944691194\n"
     ]
    }
   ],
   "source": [
    "\"\"\"expected number of event per day assuming no oscilation (294.7 per day per kilo ton )\"\"\"\n",
    "\n",
    "integral_electron_mc = np.zeros(len(t_recoil))\n",
    "k = 0\n",
    "for i in range (len(t_recoil)):\n",
    "    if t_recoil[i]<frame.energy_recoil[0]:\n",
    "        integral_electron_mc[i] = np.trapz(frame.spectrum_nu * electron_cross_section[i,:], frame.energy_nu)\n",
    "    else:\n",
    "        integral_electron_mc[i] = np.trapz(frame.spectrum_nu[k:] * electron_cross_section[i,k:], frame.energy_nu[k:])\n",
    "        k = k+1\n",
    "\n",
    "total_volume  = 32.5\n",
    "total_days    = 1\n",
    "target_number = frame.target_number\n",
    "mc_expected_event = total_days * total_volume * target_number * SNO_norm * np.trapz(integral_electron_mc,t_recoil)\n",
    "\n",
    "print(mc_expected_event)"
   ]
  },
  {
   "cell_type": "code",
   "execution_count": 3,
   "id": "3737d454",
   "metadata": {},
   "outputs": [
    {
     "name": "stdout",
     "output_type": "stream",
     "text": [
      "105.59138020099317 33.63970070107935\n"
     ]
    }
   ],
   "source": [
    "\"\"\" expected number of event per day assuming MSW survival probability \"\"\"\n",
    "\n",
    "frame.param.update({'SinT12': 0.319, 'M12': 7.51e-5})\n",
    "survival_probablity = MSW(frame.param,frame.energy_nu)\n",
    "integral_electron = np.zeros(len(t_recoil))\n",
    "integral_moun  = np.zeros(len(t_recoil))\n",
    "k = 0\n",
    "for i in range (len(t_recoil)):\n",
    "    if t_recoil[i] < frame.energy_recoil[0]:\n",
    "        integral_electron[i] = np.trapz(frame.spectrum_nu * electron_cross_section[i,:] * survival_probablity,\n",
    "                                          frame.energy_nu)\n",
    "        integral_moun[i] = np.trapz(frame.spectrum_nu * moun_cross_section[i,:] * (1-survival_probablity),\n",
    "                                          frame.energy_nu)\n",
    "    else:\n",
    "        integral_electron[i]= np.trapz(frame.spectrum_nu[k:] * electron_cross_section[i,k:]* survival_probablity[k:],\n",
    "                                       frame.energy_nu[k:])\n",
    "        integral_moun[i] = np.trapz(frame.spectrum_nu[k:] * moun_cross_section[i,k:] * (1-survival_probablity[k:]),\n",
    "                                              frame.energy_nu[k:])\n",
    "        k = k+1\n",
    "suk_expected_event_e = total_days * total_volume * target_number * SNO_norm * np.trapz(integral_electron, t_recoil)\n",
    "suk_expected_event_m = total_days * total_volume * target_number * SNO_norm * np.trapz(integral_moun, t_recoil)\n",
    "\n",
    "print(suk_expected_event_e , suk_expected_event_m)"
   ]
  },
  {
   "cell_type": "code",
   "execution_count": 4,
   "id": "0f01da3c",
   "metadata": {},
   "outputs": [
    {
     "name": "stdout",
     "output_type": "stream",
     "text": [
      "0.47255470929180293\n"
     ]
    }
   ],
   "source": [
    "print((suk_expected_event_e+suk_expected_event_m)/mc_expected_event)"
   ]
  },
  {
   "cell_type": "code",
   "execution_count": null,
   "id": "58f5c7db",
   "metadata": {},
   "outputs": [],
   "source": [
    "t12, mum2, m12 = param_update\n",
    "\n",
    "self.param.update({'SinT12': t12, 'mum2': mum2, 'M12': m12})\n",
    "\n",
    "survival_prob, sterile_prob = PseudoDirac(self.param, self.distance, self.energy_nu)\n",
    "\n",
    "r = np.zeros((len(self.distance),self.energy_recoil.shape[0]))\n",
    "\n",
    "for z,ts in enumerate(self.energy_recoil):\n",
    "    if (len(self.energy_nu) - len(self.energy_nu[z:]))/len(self.energy_nu) >= 0.8 :\n",
    "        r[:,z] = np.trapz(self.spectrum_nu * (self.cs_electron[z,:] * survival_prob + self.cs_muon[z,:] * (1 - survival_prob - sterile_prob)), self.energy_nu, axis=1) - np.trapz(self.spectrum_nu[:z] * (self.cs_electron[z,:z] * survival_prob[:,:z] + self.cs_muon[z,:z] * (1 - survival_prob[:,:z] - sterile_prob[:,:z])), self.energy_nu[:z], axis=1)\n",
    "    else:\n",
    "        r[:,z] = np.trapz(self.spectrum_nu[z:] * (self.cs_electron[z,z:] * survival_prob[:,z:] + self.cs_muon[z,z:] * (1 - survival_prob[:,z:] - sterile_prob[:,z:])), self.energy_nu[z:],axis=1)\n",
    "    \n",
    "if self.resolution_correction:\n",
    "    self.flux_fraction_prediction = (self.norm/self.borom_unoscilated_total) * np.trapz( r * self.resp_func, self.energy_recoil, axis=1)/self.distance**2\n",
    "else:\n",
    "    self.flux_fraction_prediction = (self.norm/self.borom_unoscilated_total) * np.trapz( r , self.energy_recoil, axis=1)/self.distance**2\n",
    "return self.flux_fraction_prediction"
   ]
  }
 ],
 "metadata": {
  "kernelspec": {
   "display_name": "basecamp",
   "language": "python",
   "name": "python3"
  },
  "language_info": {
   "codemirror_mode": {
    "name": "ipython",
    "version": 3
   },
   "file_extension": ".py",
   "mimetype": "text/x-python",
   "name": "python",
   "nbconvert_exporter": "python",
   "pygments_lexer": "ipython3",
   "version": "3.9.12"
  }
 },
 "nbformat": 4,
 "nbformat_minor": 5
}
