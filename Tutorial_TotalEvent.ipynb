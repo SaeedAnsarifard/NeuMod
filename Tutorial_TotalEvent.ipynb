{
 "cells": [
  {
   "cell_type": "code",
   "execution_count": 1,
   "id": "511b61ec",
   "metadata": {},
   "outputs": [],
   "source": [
    "\"\"\"fraction of expected number of event over number of event assuming no oscilation (294.7 )\n",
    "\"\"\"\n",
    "import numpy as np\n",
    "import matplotlib.pyplot as plt\n",
    "\n",
    "from framework_pkg.total_flux import SuperKFlux\n",
    "\n",
    "plt.rcParams['text.usetex']=True\n",
    "plt.style.use('classic')"
   ]
  },
  {
   "cell_type": "code",
   "execution_count": 6,
   "id": "b9f3f1d4",
   "metadata": {},
   "outputs": [],
   "source": [
    "param = {'SinT12': 0.306, 'M12': 6.9e-5}\n",
    "\n",
    "total_flux   = SuperKFlux(masked_val=4.5, first_day='2015,1,1', last_day='2016,1,1')\n",
    "spectrum_data = total_flux.modulation_data\n",
    "energy_obs    = total_flux.energy_obs\n",
    "\n",
    "flux_msw = total_flux.__getitem__(param, name=\"MSW\")\n",
    "flux_pseudodirac = total_flux.__getitem__(param, name=\"PseudoDirac\")"
   ]
  },
  {
   "cell_type": "code",
   "execution_count": 7,
   "id": "632fbf7a",
   "metadata": {},
   "outputs": [
    {
     "name": "stdout",
     "output_type": "stream",
     "text": [
      "[2.27038476]\n",
      "\n",
      "[1.59021747]\n"
     ]
    }
   ],
   "source": [
    "print(flux_msw)\n",
    "print()\n",
    "print(flux_pseudodirac)"
   ]
  },
  {
   "cell_type": "code",
   "execution_count": 2,
   "id": "3737967d",
   "metadata": {},
   "outputs": [
    {
     "name": "stdout",
     "output_type": "stream",
     "text": [
      "294.63483944691194\n"
     ]
    }
   ],
   "source": [
    "\"\"\"expected number of event per day assuming no oscilation (294.7 per day per kilo ton )\"\"\"\n",
    "\n",
    "integral_electron_mc = np.zeros(len(t_recoil))\n",
    "k = 0\n",
    "for i in range (len(t_recoil)):\n",
    "    if t_recoil[i]<frame.energy_recoil[0]:\n",
    "        integral_electron_mc[i] = np.trapz(frame.spectrum_nu * electron_cross_section[i,:], frame.energy_nu)\n",
    "    else:\n",
    "        integral_electron_mc[i] = np.trapz(frame.spectrum_nu[k:] * electron_cross_section[i,k:], frame.energy_nu[k:])\n",
    "        k = k+1\n",
    "\n",
    "total_volume  = 32.5\n",
    "total_days    = 1\n",
    "target_number = frame.target_number\n",
    "mc_expected_event = total_days * total_volume * target_number * SNO_norm * np.trapz(integral_electron_mc,t_recoil)\n",
    "\n",
    "print(mc_expected_event)"
   ]
  },
  {
   "cell_type": "code",
   "execution_count": 4,
   "id": "9ed93c8e",
   "metadata": {},
   "outputs": [
    {
     "name": "stdout",
     "output_type": "stream",
     "text": [
      "[293.34557073]\n"
     ]
    }
   ],
   "source": [
    "#frame._compute_unoscilated_signal(frame.energy_recoil, frame.energy_nu, frame.spectrum_nu, energy_obs, frame.cs_electron, resp_func)\n",
    "print(total_days * total_volume * target_number * SNO_norm * frame.borom_unoscilated_total)"
   ]
  },
  {
   "cell_type": "code",
   "execution_count": 3,
   "id": "3737d454",
   "metadata": {},
   "outputs": [
    {
     "name": "stdout",
     "output_type": "stream",
     "text": [
      "105.59138020099317 33.63970070107935\n"
     ]
    }
   ],
   "source": [
    "\"\"\" expected number of event per day assuming MSW survival probability \"\"\"\n",
    "\n",
    "frame.param.update({'SinT12': 0.319, 'M12': 7.51e-5})\n",
    "survival_probablity = MSW(frame.param,frame.energy_nu)\n",
    "integral_electron = np.zeros(len(t_recoil))\n",
    "integral_moun  = np.zeros(len(t_recoil))\n",
    "k = 0\n",
    "for i in range (len(t_recoil)):\n",
    "    if t_recoil[i] < frame.energy_recoil[0]:\n",
    "        integral_electron[i] = np.trapz(frame.spectrum_nu * electron_cross_section[i,:] * survival_probablity,\n",
    "                                          frame.energy_nu)\n",
    "        integral_moun[i] = np.trapz(frame.spectrum_nu * moun_cross_section[i,:] * (1-survival_probablity),\n",
    "                                          frame.energy_nu)\n",
    "    else:\n",
    "        integral_electron[i]= np.trapz(frame.spectrum_nu[k:] * electron_cross_section[i,k:]* survival_probablity[k:],\n",
    "                                       frame.energy_nu[k:])\n",
    "        integral_moun[i] = np.trapz(frame.spectrum_nu[k:] * moun_cross_section[i,k:] * (1-survival_probablity[k:]),\n",
    "                                              frame.energy_nu[k:])\n",
    "        k = k+1\n",
    "suk_expected_event_e = total_days * total_volume * target_number * SNO_norm * np.trapz(integral_electron, t_recoil)\n",
    "suk_expected_event_m = total_days * total_volume * target_number * SNO_norm * np.trapz(integral_moun, t_recoil)\n",
    "\n",
    "print(suk_expected_event_e , suk_expected_event_m)"
   ]
  },
  {
   "cell_type": "code",
   "execution_count": 4,
   "id": "0f01da3c",
   "metadata": {},
   "outputs": [
    {
     "name": "stdout",
     "output_type": "stream",
     "text": [
      "0.47255470929180293\n"
     ]
    }
   ],
   "source": [
    "print((suk_expected_event_e+suk_expected_event_m)/mc_expected_event)"
   ]
  },
  {
   "cell_type": "code",
   "execution_count": null,
   "id": "58f5c7db",
   "metadata": {},
   "outputs": [],
   "source": []
  }
 ],
 "metadata": {
  "kernelspec": {
   "display_name": "basecamp",
   "language": "python",
   "name": "python3"
  },
  "language_info": {
   "codemirror_mode": {
    "name": "ipython",
    "version": 3
   },
   "file_extension": ".py",
   "mimetype": "text/x-python",
   "name": "python",
   "nbconvert_exporter": "python",
   "pygments_lexer": "ipython3",
   "version": "3.9.12"
  }
 },
 "nbformat": 4,
 "nbformat_minor": 5
}
