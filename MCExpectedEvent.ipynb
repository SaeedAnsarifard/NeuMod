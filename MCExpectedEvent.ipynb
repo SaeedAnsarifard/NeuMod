{
 "cells": [
  {
   "cell_type": "code",
   "execution_count": null,
   "id": "511b61ec",
   "metadata": {},
   "outputs": [
    {
     "name": "stdout",
     "output_type": "stream",
     "text": [
      "294.85041013123566\n"
     ]
    }
   ],
   "source": [
    "\"\"\"expected number of event per day assuming no oscilation (294.7 )\"\"\"\n",
    "\n",
    "from framework import FrameWork\n",
    "import numpy as np\n",
    "\n",
    "frame      = FrameWork(resolution_correction=False, masked_val=0.1)\n",
    "spectrum   = frame.spectrum_nu\n",
    "e_neutrino = frame.energy_nu\n",
    "t_recoil   = e_neutrino/(1+0.5/(2*e_neutrino))\n",
    "t_recoil_tot = np.concatenate((np.logspace(-5,-2,30),t_recoil))\n",
    "electron_cross_section = frame._compute_cross_section(e_neutrino,t_recoil_tot,1)\n",
    "\n",
    "integral_electron = np.zeros(len(t_recoil_tot))\n",
    "k = 0\n",
    "for i in range (len(t_recoil_tot)):\n",
    "    if t_recoil_tot[i]<t_recoil[0]:\n",
    "        integral_electron[i] = np.trapz(spectrum*electron_cross_section[i,:],e_neutrino)\n",
    "    else:\n",
    "        integral_electron[i] = np.trapz(spectrum[k:]*electron_cross_section[i,k:],e_neutrino[k:])\n",
    "        k = k+1\n",
    "\n",
    "total_volume  = 32.5\n",
    "total_days    = 1\n",
    "\n",
    "\n",
    "target_number = (10/18)*(1/1.67)*6.*6.*24. #per day per kilo ton 10^35\n",
    "\n",
    "print(total_days*total_volume*target_number*5.25e-4*np.trapz(integral_electron,t_recoil_tot))"
   ]
  },
  {
   "cell_type": "code",
   "execution_count": null,
   "id": "e7a84ad1",
   "metadata": {},
   "outputs": [],
   "source": []
  },
  {
   "cell_type": "code",
   "execution_count": null,
   "id": "d5b39700-76c4-47b5-8396-4936d946767f",
   "metadata": {},
   "outputs": [],
   "source": []
  }
 ],
 "metadata": {
  "kernelspec": {
   "display_name": "basecamp",
   "language": "python",
   "name": "python3"
  },
  "language_info": {
   "codemirror_mode": {
    "name": "ipython",
    "version": 3
   },
   "file_extension": ".py",
   "mimetype": "text/x-python",
   "name": "python",
   "nbconvert_exporter": "python",
   "pygments_lexer": "ipython3",
   "version": "3.9.12"
  }
 },
 "nbformat": 4,
 "nbformat_minor": 5
}
