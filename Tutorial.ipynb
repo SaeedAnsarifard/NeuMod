{
 "cells": [
  {
   "cell_type": "code",
   "execution_count": 1,
   "id": "511b61ec",
   "metadata": {},
   "outputs": [],
   "source": [
    "#from framework import FrameWork\n",
    "#from framework import AveragedPerdiction\n",
    "#from framework import BorexinoRecoilSpectrum\n",
    "#from framework import SuperkTotalEventPrediction\n",
    "\n",
    "import numpy as np\n",
    "import matplotlib.pyplot as plt\n",
    "\n",
    "plt.rcParams['text.usetex']=True\n",
    "plt.style.use('classic')\n"
   ]
  },
  {
   "cell_type": "code",
   "execution_count": 2,
   "id": "5709f3ad",
   "metadata": {},
   "outputs": [],
   "source": [
    "frame            = FrameWork(m12_nuisance=False)\n",
    "frame.norm['B8'] = [5.25e-4] #cm^-2 s^-1 10^10 from SNO\n",
    "\n",
    "dr_dldt          = frame[[34.4,0]] ##theta_12 from SuperK bestfit\n",
    "\n",
    "\n",
    "_,b8_spectrum  = AveragedPerdiction(dr_dldt,frame)\n",
    "b8_total       = SuperkTotalEventPrediction(dr_dldt,frame)"
   ]
  },
  {
   "cell_type": "code",
   "execution_count": 3,
   "id": "304af112",
   "metadata": {},
   "outputs": [
    {
     "name": "stdout",
     "output_type": "stream",
     "text": [
      "[[0.46563606 0.46101536 0.45673828 0.45280458 0.44920635 0.44592979\n",
      "  0.44295702 0.44026772 0.43784049 0.43565382 0.43368685 0.43191972\n",
      "  0.4303339  0.42891221 0.42763879 0.42649905 0.4254795  0.42456775\n",
      "  0.42375244 0.42302327 0.42215032 0.42109652 0.42006791]]\n"
     ]
    }
   ],
   "source": [
    "print(b8_spectrum)"
   ]
  },
  {
   "cell_type": "code",
   "execution_count": 4,
   "id": "e6c595c2",
   "metadata": {},
   "outputs": [
    {
     "name": "stdout",
     "output_type": "stream",
     "text": [
      "[208.6508295  194.36621884 179.20673926 163.43352051 147.32960881\n",
      " 131.18568363 115.28748228  99.90510014  85.28377589  71.63586502\n",
      "  59.13402357  47.9058086   38.03001631  29.53518641  22.40069591\n",
      "  16.56067744  11.91070687   8.31690154   5.62675738   3.6807253\n",
      "   3.73553115   1.28733854   0.48823481]\n"
     ]
    }
   ],
   "source": [
    "print(frame.borom_unoscilated_spectrum) #event per year per kilo ton"
   ]
  },
  {
   "cell_type": "code",
   "execution_count": 5,
   "id": "c7bd616f",
   "metadata": {},
   "outputs": [
    {
     "name": "stdout",
     "output_type": "stream",
     "text": [
      "0.4485522276342697\n"
     ]
    }
   ],
   "source": [
    "print(b8_total[0]/frame.borom_unoscilated_total)"
   ]
  },
  {
   "cell_type": "code",
   "execution_count": 6,
   "id": "6436de67",
   "metadata": {},
   "outputs": [
    {
     "name": "stdout",
     "output_type": "stream",
     "text": [
      "[ 0.1  0.2  0.3  0.4  0.5  0.6  0.7  0.8  0.9  1.   1.1  1.2  1.3  1.4\n",
      "  1.5  1.6  1.7  1.8  1.9  2.   2.1  2.2  2.3  2.4  2.5  2.6  2.7  2.8\n",
      "  2.9  3.   3.1  3.2  3.3  3.4  3.5  3.6  3.7  3.8  3.9  4.   4.1  4.2\n",
      "  4.3  4.4  4.5  4.6  4.7  4.8  4.9  5.   5.1  5.2  5.3  5.4  5.5  5.6\n",
      "  5.7  5.8  5.9  6.   6.1  6.2  6.3  6.4  6.5  6.6  6.7  6.8  6.9  7.\n",
      "  7.1  7.2  7.3  7.4  7.5  7.6  7.7  7.8  7.9  8.   8.1  8.2  8.3  8.4\n",
      "  8.5  8.6  8.7  8.8  8.9  9.   9.1  9.2  9.3  9.4  9.5  9.6  9.7  9.8\n",
      "  9.9 10.  10.1 10.2 10.3 10.4 10.5 10.6 10.7 10.8 10.9 11.  11.1 11.2\n",
      " 11.3 11.4 11.5 11.6 11.7 11.8 11.9 12.  12.1 12.2 12.3 12.4 12.5 12.6\n",
      " 12.7 12.8 12.9 13.  13.1 13.2 13.3 13.4 13.5 13.6 13.7 13.8 13.9 14.\n",
      " 14.1 14.2 14.3 14.4 14.5 14.6 14.7 14.8 14.9 15.  15.1 15.2 15.3 15.4\n",
      " 15.5]\n"
     ]
    }
   ],
   "source": [
    "print(np.arange(0.1,15.6,0.1))"
   ]
  },
  {
   "cell_type": "code",
   "execution_count": 7,
   "id": "cacfeee9",
   "metadata": {},
   "outputs": [],
   "source": [
    "b8spec = np.loadtxt('./Spectrum/B8_spectrum.txt')"
   ]
  },
  {
   "cell_type": "code",
   "execution_count": 8,
   "id": "d8e4bb1f",
   "metadata": {},
   "outputs": [
    {
     "name": "stdout",
     "output_type": "stream",
     "text": [
      "(155, 2)\n"
     ]
    }
   ],
   "source": [
    "print(b8spec.shape)"
   ]
  },
  {
   "cell_type": "code",
   "execution_count": null,
   "id": "b62d14dc",
   "metadata": {},
   "outputs": [],
   "source": []
  }
 ],
 "metadata": {
  "kernelspec": {
   "display_name": "Python 3 (ipykernel)",
   "language": "python",
   "name": "python3"
  },
  "language_info": {
   "codemirror_mode": {
    "name": "ipython",
    "version": 3
   },
   "file_extension": ".py",
   "mimetype": "text/x-python",
   "name": "python",
   "nbconvert_exporter": "python",
   "pygments_lexer": "ipython3",
   "version": "3.9.12"
  }
 },
 "nbformat": 4,
 "nbformat_minor": 5
}
