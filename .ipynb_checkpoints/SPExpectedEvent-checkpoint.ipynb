{
 "cells": [
  {
   "cell_type": "code",
   "execution_count": 39,
   "id": "511b61ec",
   "metadata": {},
   "outputs": [
    {
     "name": "stdout",
     "output_type": "stream",
     "text": [
      "294.85041013123566\n"
     ]
    }
   ],
   "source": [
    "\"\"\"expected number of event per day assuming no oscilation (294.7 )\"\"\"\n",
    "\n",
    "from framework import FrameWork\n",
    "from survival_probablity import MSW,PseudoDirac\n",
    "\n",
    "import numpy as np\n",
    "import pandas as pd\n",
    "import matplotlib.pyplot as plt\n",
    "plt.rcParams['text.usetex']=True\n",
    "plt.style.use('classic')\n",
    "\n",
    "\n",
    "frame      = FrameWork(resolution_correction=False, masked_val=0.1)\n",
    "spectrum   = frame.spectrum_nu\n",
    "\n",
    "e_neutrino = frame.energy_nu\n",
    "t_recoil   = e_neutrino/(1+0.5/(2*e_neutrino))\n",
    "\n",
    "t_recoil_tot = np.concatenate((np.logspace(-5,-2,30),t_recoil))\n",
    "electron_cross_section = frame._compute_cross_section(e_neutrino,t_recoil_tot,1)\n",
    "moun_cross_section     = frame._compute_cross_section(e_neutrino,t_recoil_tot,-1)\n",
    "\n",
    "integral_electron = np.zeros(len(t_recoil_tot))\n",
    "k = 0\n",
    "for i in range (len(t_recoil_tot)):\n",
    "    if t_recoil_tot[i]<t_recoil[0]:\n",
    "        integral_electron[i] = np.trapz(spectrum*electron_cross_section[i,:],e_neutrino)\n",
    "    else:\n",
    "        integral_electron[i] = np.trapz(spectrum[k:]*electron_cross_section[i,k:],e_neutrino[k:])\n",
    "        k = k+1\n",
    "\n",
    "total_volume  = 32.5\n",
    "total_days    = 1\n",
    "\n",
    "\n",
    "target_number = (10/18)*(1/1.67)*6.*6.*24. #per day per kilo ton 10^35\n",
    "mc_expected_event = total_days*total_volume*target_number*5.25e-4*np.trapz(integral_electron,t_recoil_tot)\n",
    "\n",
    "print(mc_expected_event)"
   ]
  },
  {
   "cell_type": "code",
   "execution_count": 40,
   "id": "e7a84ad1",
   "metadata": {},
   "outputs": [
    {
     "name": "stdout",
     "output_type": "stream",
     "text": [
      "0.022206248489152248\n"
     ]
    }
   ],
   "source": [
    "#distance = np.linspace(0.98,1.2,50)\n",
    "#survival_probablity,sterile_probablity = PseudoDirac(frame.param,distance,e_neutrino)\n",
    "#survival_probablity = np.mean(survival_probablity,axis=0)\n",
    "\n",
    "frame.param.update({'SinT12': 0.308, 'M12': 6.9e-5})\n",
    "survival_probablity = MSW(frame.param,e_neutrino)"
   ]
  },
  {
   "cell_type": "code",
   "execution_count": 41,
   "id": "b76a81c9",
   "metadata": {},
   "outputs": [
    {
     "data": {
      "text/plain": [
       "[<matplotlib.lines.Line2D at 0x12f182b80>]"
      ]
     },
     "execution_count": 41,
     "metadata": {},
     "output_type": "execute_result"
    },
    {
     "data": {
      "image/png": "[encoded data removed]",
      "text/plain": [
       "<Figure size 640x480 with 1 Axes>"
      ]
     },
     "metadata": {},
     "output_type": "display_data"
    }
   ],
   "source": [
    "plt.xscale('log')\n",
    "plt.plot(e_neutrino,survival_probablity,'.')"
   ]
  },
  {
   "cell_type": "code",
   "execution_count": 42,
   "id": "3737d454",
   "metadata": {},
   "outputs": [],
   "source": [
    "integral_electron_1 = np.zeros(len(t_recoil_tot))\n",
    "integral_moun  = np.zeros(len(t_recoil_tot))\n",
    "k = 0\n",
    "for i in range (len(t_recoil_tot)):\n",
    "    if t_recoil_tot[i]< t_recoil[0]:\n",
    "        integral_electron_1[i] = np.trapz(spectrum*electron_cross_section[i,:]*survival_probablity,\n",
    "                                          e_neutrino)\n",
    "        integral_moun[i] = np.trapz(spectrum*moun_cross_section[i,:]*(1-survival_probablity),\n",
    "                                          e_neutrino)\n",
    "    else:\n",
    "        integral_electron_1[i]= np.trapz(spectrum[k:]*electron_cross_section[i,k:]*survival_probablity[k:],\n",
    "                                              e_neutrino[k:])\n",
    "        integral_moun[i] = np.trapz(spectrum[k:]*moun_cross_section[i,k:]*(1-survival_probablity[k:]),\n",
    "                                              e_neutrino[k:])\n",
    "        k = k+1\n",
    "        \n",
    "        \n",
    "sp_expected_event_e = total_days*total_volume*target_number*5.25e-4*np.trapz(integral_electron_1,t_recoil_tot)\n",
    "sp_expected_event_m = total_days*total_volume*target_number*5.25e-4*np.trapz(integral_moun,t_recoil_tot)"
   ]
  },
  {
   "cell_type": "code",
   "execution_count": 43,
   "id": "0f01da3c",
   "metadata": {},
   "outputs": [
    {
     "name": "stdout",
     "output_type": "stream",
     "text": [
      "101.87437236635 34.33564856695851\n",
      "\n",
      "0.3455120592201534 0.11645107955480197\n",
      "\n",
      "0.46196313877495526\n"
     ]
    }
   ],
   "source": [
    "print(sp_expected_event_e,sp_expected_event_m)\n",
    "print()\n",
    "print(sp_expected_event_e/mc_expected_event,sp_expected_event_m/mc_expected_event)\n",
    "\n",
    "print()\n",
    "print((sp_expected_event_e+sp_expected_event_m)/mc_expected_event)"
   ]
  },
  {
   "cell_type": "code",
   "execution_count": null,
   "id": "bbd0f8d9",
   "metadata": {},
   "outputs": [],
   "source": []
  }
 ],
 "metadata": {
  "kernelspec": {
   "display_name": "Python 3 (ipykernel)",
   "language": "python",
   "name": "python3"
  },
  "language_info": {
   "codemirror_mode": {
    "name": "ipython",
    "version": 3
   },
   "file_extension": ".py",
   "mimetype": "text/x-python",
   "name": "python",
   "nbconvert_exporter": "python",
   "pygments_lexer": "ipython3",
   "version": "3.9.12"
  }
 },
 "nbformat": 4,
 "nbformat_minor": 5
}
