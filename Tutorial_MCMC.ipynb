{
 "cells": [
  {
   "cell_type": "code",
   "execution_count": 2,
   "id": "511b61ec",
   "metadata": {},
   "outputs": [],
   "source": [
    "from framework_pkg.framework import FrameWork\n",
    "\n",
    "import numpy as np\n",
    "import matplotlib.pyplot as plt\n",
    "from scipy import interpolate\n",
    "from cobaya.run import run\n",
    "\n",
    "from getdist.mcsamples import MCSamplesFromCobaya\n",
    "from getdist import plots, MCSamples\n",
    "import getdist.plots as gdplt\n",
    "\n",
    "from getdist import loadMCSamples\n",
    "\n",
    "import warnings\n",
    "warnings.filterwarnings('ignore')\n",
    "\n",
    "plt.rcParams['text.usetex']=True\n",
    "plt.style.use('classic')\n"
   ]
  },
  {
   "cell_type": "code",
   "execution_count": 3,
   "id": "5709f3ad",
   "metadata": {},
   "outputs": [],
   "source": [
    "param ={'SinT12'  : 0.308 ,\n",
    "        'T13'  : 8.57, \n",
    "        'mu1'  : 0.,\n",
    "        'mu2'  : 0., \n",
    "        'mu3'  : 0.  ,\n",
    "        'mdm'  : 9.02e-4 , \n",
    "        'alpha': 0.  ,\n",
    "        'eps' : 0.  ,\n",
    "        'alpha_eps' : 0.  ,\n",
    "        'M12'  : 6.9e-5 }\n",
    "\n",
    "\n",
    "frame_predicted_total_signal  = FrameWork(add= './Data/time_exposures.txt', threshold=4.5, lat=36,\n",
    "                                        efficiency_correction=True,\n",
    "                                        resolution_correction=False,\n",
    "                                    )\n",
    "\n",
    "data = np.loadtxt('./Data/modulation_data.txt')\n",
    "time_bins = np.unique(frame_predicted_total_signal.time_day[:,0])\n",
    "sigma_p = 0.014\n",
    "mean_data = np.mean(data[:,1])"
   ]
  },
  {
   "cell_type": "code",
   "execution_count": 4,
   "id": "d5e3489c",
   "metadata": {},
   "outputs": [],
   "source": [
    "def LogLikelihood(sint12, m12, mdm, mu2, alpha, eps, alpha_eps, delta_p):\n",
    "    param['SinT12'] = sint12\n",
    "    param['M12'] = m12 * 1e-5\n",
    "\n",
    "    param['mu2'] = mu2\n",
    "    param['alpha'] = alpha\n",
    "    param['eps'] = eps\n",
    "    param['alpha_eps'] = alpha_eps\n",
    "\n",
    "    param['mdm'] = mdm * 2e-4\n",
    "\n",
    "    signal_fraction = frame_predicted_total_signal.__getitem__(param) \n",
    "    daily_exposure, R_daily = frame_predicted_total_signal._result_daily_basis(signal_fraction)\n",
    "\n",
    "    bin_prediction = np.zeros((len(time_bins)))\n",
    "    for i in range(len(time_bins)):\n",
    "        cond = frame_predicted_total_signal.time_day[:,0] == time_bins[i]\n",
    "        bin_prediction[i] = (1/np.sum(daily_exposure[cond])) * np.sum(5.25 * daily_exposure[cond] * R_daily[cond,0])\n",
    "        \n",
    "    prediction = bin_prediction * ( 1 - delta_p * sigma_p)\n",
    "    prediction = prediction - np.mean(prediction)\n",
    "\n",
    "    cond1 = data[:,1] - mean_data >= prediction\n",
    "    cond2 = data[:,1] - mean_data < prediction\n",
    "    lower_part  = (data[cond1,1] - mean_data - prediction[cond1])**2 / data[cond1,3]**2\n",
    "    upper_part = (data[cond2,1] - mean_data - prediction[cond2])**2 / data[cond2,2]**2\n",
    "\n",
    "    return -0.5 * ( np.sum(lower_part) + np.sum(upper_part) + delta_p**2 ) "
   ]
  },
  {
   "cell_type": "code",
   "execution_count": 5,
   "id": "43872ec4",
   "metadata": {},
   "outputs": [
    {
     "name": "stdout",
     "output_type": "stream",
     "text": [
      "-422.81343886124307\n"
     ]
    }
   ],
   "source": [
    "print(LogLikelihood(0.308, 7.22, 4.97, 0., 0., 0., 0., 0.))"
   ]
  },
  {
   "cell_type": "code",
   "execution_count": 6,
   "id": "f984006b",
   "metadata": {},
   "outputs": [],
   "source": [
    "info = {\"likelihood\": {\"Chi2\": LogLikelihood},\n",
    "        \n",
    "        \"params\": dict([(\"sint12\" , {\"prior\" : {\"min\": 0.275, \"max\": 0.345},\n",
    "                                  \"latex\" : r\"\\sin(\\theta_{12})^2\"  \n",
    "                                  }),\n",
    "\n",
    "                        \n",
    "                        (\"m12\"    , {\"prior\" : {\"min\": 6.92, \"max\": 8.05},\n",
    "                                  \"latex\": r\"\\Delta m^2_{21} \\ \\rm 10^{-5} \\ eV^2\"  \n",
    "                                  }), \n",
    "                        \n",
    "                        (\"mu2\"    , {\"prior\" : {\"min\": 0, \"max\": 0.25},\n",
    "                                   \"latex\" : r\"\\tilde{\\mu}^2/2 \"  \n",
    "                                   }),\n",
    "                        \n",
    "                        (\"alpha\"  , {\"prior\" : {\"min\": 0, \"max\": np.pi},\n",
    "                                   \"latex\" : r\"\\alpha \"  \n",
    "                                   }),\n",
    "                        \n",
    "                        (\"eps\"  , {\"prior\" : {\"min\": 0, \"max\": 1.},\n",
    "                                   \"latex\" : r\"\\epsilon \"  \n",
    "                                   }),\n",
    "\n",
    "                        (\"alpha_eps\"  , {\"prior\" : {\"min\": 0, \"max\": np.pi},\n",
    "                                   \"latex\" : r\"\\alpha_\\epsilon \"  \n",
    "                                   }), \n",
    "\n",
    "                        (\"delta_p\", {\"prior\" : {\"min\": -3, \"max\": 3},\n",
    "                                  \"latex\": r\"\\delta_p\"  \n",
    "                                  }) ,\n",
    "\n",
    "                        (\"mdm\", {\"prior\" : {\"min\": 1, \"max\": 10},\n",
    "                                   \"latex\": r\"m_{\\rm dm}\"  \n",
    "                                  }) \n",
    "                        \n",
    "                        ]),\n",
    "        \n",
    "        \"sampler\": {\"mcmc\": {\"Rminus1_stop\": 0.01, \"max_tries\": 100000 }},\n",
    "        \"output\" : \"output8/run_info\"\n",
    "       }"
   ]
  },
  {
   "cell_type": "code",
   "execution_count": 68,
   "id": "b6092603",
   "metadata": {},
   "outputs": [
    {
     "data": {
      "image/png": "[encoded data removed]",
      "text/plain": [
       "<Figure size 560x560 with 3 Axes>"
      ]
     },
     "metadata": {},
     "output_type": "display_data"
    }
   ],
   "source": [
    "# Filled 2D comparison plot with legend\n",
    "#gd_sample = MCSamplesFromCobaya(updated_info, sampler.products()[\"sample\"])\n",
    "\n",
    "\n",
    "# Path to your Cobaya output folder (replace with your actual path)\n",
    "output_folder = \"output10_1/run_info\"\n",
    "\n",
    "# Load the MCMC samples\n",
    "samples = loadMCSamples(output_folder)\n",
    "\n",
    "# param_names = samples.getParamNames()\n",
    "\n",
    "# print(\"Current labels:\", [p.label for p in param_names.names])\n",
    "\n",
    "# # print(\"Parameter names:\", param_names.names)\n",
    "# # print(\"LaTeX labels:\", param_names.labels)\n",
    "\n",
    "# # Fix a specific parameter's LaTeX label (e.g., replace \"omegab\" with correct LaTeX)\n",
    "# param_names.setLabels({\"mu2\" :  \"\\tilde{\\mu}^2/2 \"} )\n",
    "    \n",
    "# print( param_names.parWithName(\"mu2\").label)\n",
    "\n",
    "\n",
    "\n",
    "# param_names = samples.getParamNames().names\n",
    "# for p in param_names:\n",
    "#     if p.name == \"mu2\":\n",
    "#         p.label = r\"\\tilde{\\mu}^2/2 \"\n",
    "\n",
    "gdplot = gdplt.get_subplot_plotter(width_inch=7)\n",
    "\n",
    "gdplot.settings.scaling = False\n",
    "# gdplot.triangle_plot(samples, [\"sint12\",\"m12\",\"mu2\", \"alpha\", \"delta_p\"], filled=True, \n",
    "#                      param_limits={'t12': (0.28, 0.36), \n",
    "#                                    'm12': (7, 8),\n",
    "#                                    'delta': (-0.2, 0.2),\n",
    "#                                    'mum2': (0, 1.5)\n",
    "#                                   },lw=2)\n",
    "\n",
    "\n",
    "gdplot.triangle_plot(samples, [\"mu2\", \"eps\"], filled=True,lw=2)\n",
    "#gdplot.triangle_plot(samples, [\"mu2\", \"alpha\",\"eps\",\"alpha_eps\"], filled=True, \n",
    "#                    lw=2)\n",
    "\n",
    "# gdplot.export('./bayes_1_nopriors.pdf')"
   ]
  },
  {
   "cell_type": "code",
   "execution_count": 63,
   "id": "3605ff56",
   "metadata": {},
   "outputs": [
    {
     "name": "stdout",
     "output_type": "stream",
     "text": [
      "[ 0.31312049  7.52434951  0.06339196  0.57303446 -0.27749321 -3.37897289\n",
      " -3.37897289  2.01520197  2.01520197]\n"
     ]
    },
    {
     "data": {
      "image/png": "[encoded data removed]",
      "text/plain": [
       "<Figure size 360x360 with 1 Axes>"
      ]
     },
     "metadata": {},
     "output_type": "display_data"
    }
   ],
   "source": [
    "g = plots.get_single_plotter(width_inch=4.5, ratio=1)\n",
    "g.settings.prob_y_ticks = [0.1,0.3,0.6,0.9]\n",
    "g.settings.prob_label = r'$P/P_{\\rm max}$'\n",
    "#g.plot_1d([samples],\"mu2\",lims=[0, 0.1],ls=['-'],lws=2,colors=['olive'])\n",
    "g.plot_1d([samples],\"mu2\",lims=[0, 0.15],ls=['-'],lws=2,colors=['olive'])\n",
    "#g.add_legend(['2020-2021','2012-2013'], legend_loc='upper right')\n",
    "g.settings.scaling_factor = 1.\n",
    "\n",
    "\n",
    "mean   = samples.getMeans()\n",
    "\n",
    "print(mean)"
   ]
  },
  {
   "cell_type": "code",
   "execution_count": 48,
   "id": "aafc70bd",
   "metadata": {},
   "outputs": [
    {
     "name": "stdout",
     "output_type": "stream",
     "text": [
      "[1.e-04 1.e-03 1.e-02 1.e-01 1.e+00]\n"
     ]
    },
    {
     "data": {
      "image/png": "[encoded data removed]",
      "text/plain": [
       "<Figure size 360x360 with 1 Axes>"
      ]
     },
     "metadata": {},
     "output_type": "display_data"
    }
   ],
   "source": [
    "from matplotlib.ticker import ScalarFormatter\n",
    "\n",
    "output_folder = \"output3/run_info\"\n",
    "\n",
    "# Load the MCMC samples\n",
    "samples = loadMCSamples(output_folder)\n",
    "\n",
    "g = plots.get_single_plotter(width_inch=4.5, ratio=1)\n",
    "g.settings.prob_y_ticks = [0.1,0.3,0.6,0.9]\n",
    "g.settings.prob_label = r'$P/P_{\\rm max}$'\n",
    "g.plot_1d([samples],\"mu2\",lims=[5e-3, 0.05],ls=['-'],lws=2,colors=['olive'])\n",
    "#g.add_legend(['2020-2021','2012-2013'], legend_loc='upper right')\n",
    "g.settings.scaling_factor = 1.\n",
    "\n",
    "\n",
    "\n",
    "# # Access the underlying matplotlib axes to modify ticks\n",
    "ax = g.fig.axes[0]  # Get the current axes\n",
    "ax.set_xscale('log')\n",
    "\n",
    "current_ticks = ax.get_xticks() \n",
    "\n",
    "\n",
    "\n",
    "print(current_ticks)\n",
    "\n",
    "\n",
    "\n",
    "#ax.set_xlabel(r'$\\mu_2[\\rm \\ GeV^{-1} ]$', fontsize=16)\n",
    "ax.set_xlabel(r'$\\tilde{\\mu}^2_2/2$', fontsize=16)\n",
    "\n",
    "#log_ticks = [1.8e-4, 1.8e-2]\n",
    "\n",
    "\n",
    "# Compute labels: √(2e-7/0.036 × x) for each tick\n",
    "#new_labels = [f\"{1e-7*np.sqrt(2/ 0.036 * x):.1e}\" for x in log_ticks]\n",
    "new_labels = [f\"{np.sqrt(2/ 0.036 * x):.1e}\" for x in current_ticks]\n",
    "\n",
    "\n",
    "#new_labels = [r'$10^{-8}$', r'$ 10^{-7}$']\n",
    "\n",
    "\n",
    "\n",
    "\n",
    "\n",
    "# formatter = ScalarFormatter(useMathText=True)\n",
    "# formatter.set_scientific(True)\n",
    "# #formatter.set_powerlimits((0, 0))  # Always use sci notation\n",
    "# ax.xaxis.set_major_formatter(formatter)\n",
    "\n",
    "# Apply ticks and labels\n",
    "#ax.set_xticks(log_ticks)\n",
    "ax.set_xticks(current_ticks)\n",
    "ax.set_xlim(2e-4,1e-1)\n",
    "#ax.set_xlim(2.7e-2,0.1)\n",
    "#ax.set_ylim(0,0.1)\n",
    "\n",
    "\n",
    "new_labels = [r'$2.4\\times 10^{-8}$',r'$2.4\\times 10^{-8}$', r'$ 7.5\\times 10^{-8}$', r'$ 2.4\\times 10^{-7}$',r'$ 2.4\\times 10^{-7}$']\n",
    "#ax.set_xticklabels(new_labels, fontsize=15)\n",
    "\n",
    "\n",
    "# new_ticks = np.sqrt(2e-7/0.036 * current_ticks)\n",
    "# ax.set_xticks(current_ticks)\n",
    "# ax.set_xticklabels([f\"{val:.2e}\" for val in new_ticks])\n",
    "\n",
    "\n",
    "# #ax.ticklabel_format(axis='x', style='sci', scilimits=(0, 0), useMathText=True)\n",
    "# # Optionally rotate x-tick labels if needed\n",
    "# #ax.tick_params(axis='x', rotation=45)  \n",
    "\n",
    "# Adjust layout to prevent label cutoff\n",
    "g.fig.tight_layout()\n",
    "\n",
    "\n",
    "# #g.settings.axes_fontsize=12\n",
    "g.export('posteriors_tot2.pdf')"
   ]
  },
  {
   "cell_type": "code",
   "execution_count": null,
   "id": "304af112",
   "metadata": {},
   "outputs": [],
   "source": [
    "#best fit and covariance matrix and errors\n",
    "mean   = gd_sample.getMeans()\n",
    "covmat = gd_sample.getCovMat().matrix[:, :]\n",
    "print(\"Mean:\")\n",
    "print(mean)\n",
    "print(\"Covariance matrix:\")\n",
    "print(covmat)\n",
    "print('####################')\n",
    "\n",
    "stats = gd_sample.getMargeStats()\n",
    "lims1 = stats.parWithName('t12').limits\n",
    "lims2 = stats.parWithName('mum2').limits\n",
    "lims3 = stats.parWithName('m12').limits\n",
    "lims4 = stats.parWithName('delta').limits\n",
    "\n",
    "for conf, lim1, lim2, lim3, lim4 in zip(gd_sample.contours, lims1,lims2,lims3,lims4):\n",
    "    print('t12 %s%% lower: %.1f upper: %.1f (%s)'%(conf, lim1.lower, lim1.upper, lim1.limitType()))\n",
    "    print('mum2 %s%% lower: %.2f upper: %.2f (%s)'%(conf, lim2.lower, lim2.upper, lim2.limitType()))\n",
    "    print('m12 %s%% lower: %.2f upper: %.2f (%s)'%(conf, lim3.lower, lim3.upper, lim3.limitType()))\n",
    "    print('delta %s%% lower: %.2f upper: %.2f (%s)'%(conf, lim3.lower, lim3.upper, lim3.limitType()))\n",
    "    print('####################')"
   ]
  },
  {
   "cell_type": "code",
   "execution_count": 59,
   "id": "e7a84ad1",
   "metadata": {},
   "outputs": [
    {
     "name": "stdout",
     "output_type": "stream",
     "text": [
      "(3481, 14)\n",
      "(4849, 14)\n",
      "(1252, 11)\n",
      "-4.3089522\n",
      "410.57077\n",
      "415.12223\n"
     ]
    }
   ],
   "source": [
    "chi2_samp_hi = np.loadtxt('output8_9/run_info.1.txt')\n",
    "chi2_samp_lo = np.loadtxt('output8_91/run_info.1.txt')\n",
    "chi2_samp_me = np.loadtxt('output8_7/run_info.1.txt')\n",
    "\n",
    "\n",
    "chi2_samp = np.loadtxt('output10_1/run_info.1.txt')\n",
    "print(chi2_samp_hi.shape)\n",
    "print(chi2_samp_lo.shape)\n",
    "print(chi2_samp.shape)\n",
    "\n",
    "\n",
    "print(np.min(chi2_samp[:,1]))\n",
    "print(np.min(chi2_samp_hi[:,1]))\n",
    "print(np.min(chi2_samp_lo[:,1]))"
   ]
  },
  {
   "cell_type": "code",
   "execution_count": 67,
   "id": "6093968b",
   "metadata": {},
   "outputs": [
    {
     "data": {
      "text/plain": [
       "[<matplotlib.lines.Line2D at 0x307298340>]"
      ]
     },
     "execution_count": 67,
     "metadata": {},
     "output_type": "execute_result"
    },
    {
     "data": {
      "image/png": "[encoded data removed]",
      "text/plain": [
       "<Figure size 640x480 with 1 Axes>"
      ]
     },
     "metadata": {},
     "output_type": "display_data"
    }
   ],
   "source": [
    "cond = (chi2_samp_hi[:,9] >= 1) & (chi2_samp_hi[:,9] <= 7)\n",
    "cond_lo = (chi2_samp_lo[:,9] >= 0.7) & (chi2_samp_lo[:,9] <= 3)\n",
    "\n",
    "plt.rcParams['axes.formatter.useoffset'] = False\n",
    "#plt.ylim(410,430)\n",
    "\n",
    "#plt.plot(2 * chi2_samp_hi[cond,9] * 1.31 * 1e-2, chi2_samp_hi[cond,1],'b.')\n",
    "#plt.plot(2 * chi2_samp_lo[:,9] * 1.31 * 1e-2, chi2_samp_lo[:,1],'b.')\n",
    "\n",
    "\n",
    "plt.plot(chi2_samp[:,5], chi2_samp[:,9] ,'k.')\n",
    "#plt.plot(chi2_samp_me[:,4], chi2_samp_me[:,1] ,'r.')\n",
    "#plt.plot(chi2_samp_hi[cond,4], chi2_samp_hi[cond,1] ,'b.')\n",
    "#plt.plot(chi2_samp_lo[cond_lo,4], chi2_samp_lo[cond_lo,1] ,'g.')"
   ]
  },
  {
   "cell_type": "code",
   "execution_count": null,
   "id": "bca21830",
   "metadata": {},
   "outputs": [
    {
     "name": "stdout",
     "output_type": "stream",
     "text": [
      "[0.27746395]\n",
      "[7.5834488]\n",
      "[0.11025405]\n",
      "[0.72821955]\n",
      "[0.74261607]\n",
      "[2.2422824]\n",
      "[0.5407439]\n",
      "[0.84253096]\n"
     ]
    }
   ],
   "source": [
    "a = []\n",
    "for i in range(2,10):\n",
    "    print(chi2_samp[:,i][chi2_samp[:,1] == np.min(chi2_samp[:,1])])\n",
    "    #a.append(chi2_samp_lo[cond_lo,i][chi2_samp_lo[cond_lo,1] == np.min(chi2_samp_lo[cond_lo,1])][0])\n",
    "\n",
    "#print(LogLikelihood(a[0], a[1], a[7], a[2], a[3], a[4], a[5], a[6]))"
   ]
  },
  {
   "cell_type": "code",
   "execution_count": 43,
   "id": "7cee071f",
   "metadata": {},
   "outputs": [],
   "source": [
    "np.savetxt('./Data/best_fit_8_91.txt',np.array(a).T)"
   ]
  },
  {
   "cell_type": "code",
   "execution_count": null,
   "id": "1276f756",
   "metadata": {},
   "outputs": [
    {
     "name": "stdout",
     "output_type": "stream",
     "text": [
      "0.01834\n"
     ]
    }
   ],
   "source": [
    "#the range between 0.7 to 3 must be probed\n",
    "\n",
    "print(2 * 0.7 * 1.31 * 1e-2)"
   ]
  },
  {
   "cell_type": "code",
   "execution_count": null,
   "id": "20392f00",
   "metadata": {},
   "outputs": [],
   "source": []
  }
 ],
 "metadata": {
  "kernelspec": {
   "display_name": "peanuts",
   "language": "python",
   "name": "python3"
  },
  "language_info": {
   "codemirror_mode": {
    "name": "ipython",
    "version": 3
   },
   "file_extension": ".py",
   "mimetype": "text/x-python",
   "name": "python",
   "nbconvert_exporter": "python",
   "pygments_lexer": "ipython3",
   "version": "3.9.20"
  }
 },
 "nbformat": 4,
 "nbformat_minor": 5
}
