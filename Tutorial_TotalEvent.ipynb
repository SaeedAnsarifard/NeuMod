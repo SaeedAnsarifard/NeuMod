{
 "cells": [
  {
   "cell_type": "code",
   "execution_count": 1,
   "id": "511b61ec",
   "metadata": {},
   "outputs": [],
   "source": [
    "\"\"\"fraction of expected number of event over number of event assuming no oscilation (294.7 )\n",
    "\"\"\"\n",
    "import numpy as np\n",
    "import matplotlib.pyplot as plt\n",
    "import pandas as pd\n",
    "from framework_pkg.total_flux import SuperKFlux\n",
    "\n",
    "plt.rcParams['text.usetex']=True\n",
    "plt.style.use('classic')"
   ]
  },
  {
   "cell_type": "code",
   "execution_count": 5,
   "id": "b9f3f1d4",
   "metadata": {},
   "outputs": [
    {
     "name": "stdout",
     "output_type": "stream",
     "text": [
      "[0.43003931]\n",
      "\n",
      "[1.60401941]\n"
     ]
    }
   ],
   "source": [
    "param = {'SinT12': 0.306, 'M12': 6.9e-5}\n",
    "\n",
    "total_flux    = SuperKFlux(threshold=4.5, first_day='2015,1,1', last_day='2016,1,1')\n",
    "spectrum_data = total_flux.modulation_data\n",
    "#energy_obs    = total_flux.energy_obs\n",
    "\n",
    "flux_msw = total_flux.__getitem__(param, name=\"MSW\")\n",
    "flux_pseudodirac = total_flux.__getitem__(param, name=\"PseudoDirac\")\n",
    "\n",
    "print(flux_msw/5.25)\n",
    "print()\n",
    "print(flux_pseudodirac)"
   ]
  },
  {
   "cell_type": "code",
   "execution_count": 8,
   "id": "d3f7ae2a",
   "metadata": {},
   "outputs": [
    {
     "name": "stdout",
     "output_type": "stream",
     "text": [
      "[13.78177956]\n",
      "1\n"
     ]
    },
    {
     "ename": "AttributeError",
     "evalue": "'FrameWork' object has no attribute 'response_function'",
     "output_type": "error",
     "traceback": [
      "\u001b[0;31m---------------------------------------------------------------------------\u001b[0m",
      "\u001b[0;31mAttributeError\u001b[0m                            Traceback (most recent call last)",
      "Cell \u001b[0;32mIn[8], line 3\u001b[0m\n\u001b[1;32m      1\u001b[0m \u001b[38;5;28mprint\u001b[39m(total_flux\u001b[38;5;241m.\u001b[39munoscillated_flux)\n\u001b[1;32m      2\u001b[0m \u001b[38;5;28mprint\u001b[39m(\u001b[38;5;28mlen\u001b[39m(total_flux\u001b[38;5;241m.\u001b[39mefficiency))\n\u001b[0;32m----> 3\u001b[0m \u001b[38;5;28mprint\u001b[39m(\u001b[38;5;28mlen\u001b[39m(\u001b[43mtotal_flux\u001b[49m\u001b[38;5;241;43m.\u001b[39;49m\u001b[43mframe\u001b[49m\u001b[38;5;241;43m.\u001b[39;49m\u001b[43mresponse_function\u001b[49m))\n\u001b[1;32m      4\u001b[0m plt\u001b[38;5;241m.\u001b[39mplot(total_flux\u001b[38;5;241m.\u001b[39mframe\u001b[38;5;241m.\u001b[39menergy_recoil,total_flux\u001b[38;5;241m.\u001b[39mefficiency[\u001b[38;5;241m0\u001b[39m])\n",
      "\u001b[0;31mAttributeError\u001b[0m: 'FrameWork' object has no attribute 'response_function'"
     ]
    }
   ],
   "source": [
    "print(total_flux.unoscillated_flux)\n",
    "print(len(total_flux.efficiency))\n",
    "print(len(total_flux.frame.response_function))\n",
    "plt.plot(total_flux.frame.energy_recoil,total_flux.efficiency[0])"
   ]
  },
  {
   "cell_type": "code",
   "execution_count": 6,
   "id": "ec6f2280",
   "metadata": {},
   "outputs": [
    {
     "name": "stdout",
     "output_type": "stream",
     "text": [
      "9646.000231481623\n",
      "[9.64878194e+03 1.96875000e+00 3.21041667e+00 2.74000000e+00\n",
      " 6.30000000e-01 5.30000000e-01 1.02900000e+00 2.81900000e+00\n",
      " 6.48000000e-01 5.45000000e-01]\n",
      "[2.78171296 1.96875    3.21041667 2.74       0.63       0.53\n",
      " 1.029      2.819      0.648      0.545     ]\n"
     ]
    }
   ],
   "source": [
    "total_flux    = SuperKFlux()\n",
    "spectrum_data = total_flux.modulation_data\n",
    "print(spectrum_data[0])"
   ]
  },
  {
   "cell_type": "code",
   "execution_count": 18,
   "id": "981933d6",
   "metadata": {},
   "outputs": [
    {
     "name": "stdout",
     "output_type": "stream",
     "text": [
      "0.14924494744871222\n",
      "129.691991681968\n",
      "2.3104274052607128\n",
      "129.89253333333332 0.16963777339020875\n"
     ]
    }
   ],
   "source": [
    "live_days = 2055.5\n",
    "r_exp = 294.7\n",
    "n_exp = 90406\n",
    "epsilon =  n_exp /(r_exp * live_days)\n",
    "\n",
    "print(epsilon)\n",
    "\n",
    "n_obs = 39786\n",
    "r_obs = n_obs/(epsilon * live_days)\n",
    "\n",
    "print(r_obs)\n",
    "\n",
    "print(5.25 * r_obs/r_exp)\n",
    "\n",
    "\n",
    "live_days = 2970 \n",
    "n_obs = 65443\n",
    "\n",
    "r_obs = r_exp * 2.314 / 5.25\n",
    "epsilon = n_obs/(r_obs * live_days)\n",
    "print(r_obs,epsilon)\n",
    "\n",
    "# for i in range (spectrum_data.shape[0]):\n",
    "#     print(spectrum_data[i,2] + spectrum_data[i,1])"
   ]
  },
  {
   "cell_type": "code",
   "execution_count": 24,
   "id": "4f2fd1e9",
   "metadata": {},
   "outputs": [],
   "source": [
    "superk_efficiency = np.array(pd.read_csv('./Data/superk_efficiency.csv'))\n",
    "modulation_data = np.loadtxt('./Data/sksolartimevariation5804d.txt')\n",
    "modulation_data[:, :3] /= (60. * 60. * 24.) "
   ]
  },
  {
   "cell_type": "code",
   "execution_count": 5,
   "id": "7a8ca277",
   "metadata": {},
   "outputs": [
    {
     "name": "stdout",
     "output_type": "stream",
     "text": [
      "(1343, 10)\n"
     ]
    }
   ],
   "source": [
    "print(modulation_data.shape)"
   ]
  },
  {
   "cell_type": "code",
   "execution_count": 27,
   "id": "d4aae2c4",
   "metadata": {},
   "outputs": [
    {
     "data": {
      "text/plain": [
       "[<matplotlib.lines.Line2D at 0x159283c70>]"
      ]
     },
     "execution_count": 27,
     "metadata": {},
     "output_type": "execute_result"
    },
    {
     "data": {
      "image/png": "[encoded data removed]",
      "text/plain": [
       "<Figure size 640x480 with 1 Axes>"
      ]
     },
     "metadata": {},
     "output_type": "display_data"
    }
   ],
   "source": [
    "plt.plot(total_flux.frame.energy_recoil, total_flux.response_function[0])\n",
    "plt.plot(superk_efficiency[:,0],superk_efficiency[:,1])"
   ]
  },
  {
   "cell_type": "code",
   "execution_count": null,
   "id": "9f153459",
   "metadata": {},
   "outputs": [],
   "source": []
  },
  {
   "cell_type": "code",
   "execution_count": null,
   "id": "2fa1f692",
   "metadata": {},
   "outputs": [],
   "source": []
  }
 ],
 "metadata": {
  "kernelspec": {
   "display_name": "basecamp",
   "language": "python",
   "name": "python3"
  },
  "language_info": {
   "codemirror_mode": {
    "name": "ipython",
    "version": 3
   },
   "file_extension": ".py",
   "mimetype": "text/x-python",
   "name": "python",
   "nbconvert_exporter": "python",
   "pygments_lexer": "ipython3",
   "version": "3.9.12"
  }
 },
 "nbformat": 4,
 "nbformat_minor": 5
}
