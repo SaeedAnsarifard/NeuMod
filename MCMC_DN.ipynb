{
 "cells": [
  {
   "cell_type": "code",
   "execution_count": 2,
   "id": "511b61ec",
   "metadata": {},
   "outputs": [],
   "source": [
    "from framework_pkg.framework import FrameWork\n",
    "from framework_pkg.framework import bin_prediction, ideal_exposure\n",
    "\n",
    "import numpy as np\n",
    "from cobaya.run import run\n",
    "\n",
    "import warnings\n",
    "warnings.filterwarnings('ignore')\n"
   ]
  },
  {
   "cell_type": "code",
   "execution_count": 4,
   "id": "b3d52357",
   "metadata": {},
   "outputs": [],
   "source": [
    "param ={'SinT12'  : 0.310 ,\n",
    "        'T13'  : 8.57, \n",
    "        'mu1'  : 0.,\n",
    "        'mu2'  : 0., \n",
    "        'mu3'  : 0.  ,\n",
    "        'mdm'  : 1.089e-3 , \n",
    "        'alpha': 0.  ,\n",
    "        'eps' : 0.  ,\n",
    "        'alpha_eps' : 0.  ,\n",
    "        'M12'  : 6.9e-5 }\n",
    "\n",
    "\n",
    "fw_total  = FrameWork(threshold=3.5,bin_max=13, lat=36, efficiency_correction=True, resolution_correction=False)\n",
    "total_days = fw_total.time_day\n",
    "experiment_lat = fw_total.lat\n",
    "\n",
    "exposure = ideal_exposure(experiment_lat)\n",
    "\n",
    "data_day = 2.284\n",
    "error_day = np.sqrt(0.020**2 + 0.032**2)\n",
    "\n",
    "data_night = 2.341\n",
    "error_night = np.sqrt(0.019**2 + 0.033**2)"
   ]
  },
  {
   "cell_type": "code",
   "execution_count": 7,
   "id": "9be12ad8",
   "metadata": {},
   "outputs": [],
   "source": [
    "def LogLikelihood(sint12, m12, mu2, eps):\n",
    "    param['SinT12'] = sint12\n",
    "    param['M12'] = m12 * 1e-5\n",
    "\n",
    "    param['mu2'] = mu2\n",
    "    param['alpha'] = 0.73\n",
    "    param['eps'] = eps\n",
    "    param['alpha_eps'] = 2.24\n",
    "\n",
    "    param['mdm'] = 0.84 * 2e-4\n",
    "\n",
    "    raw_result = fw_total.__getitem__(param)\n",
    "    R_day, R_night, _ = bin_prediction(raw_result, exposure, total_days)\n",
    "\n",
    "    return -0.5 * ( (R_day[0,0] - data_day)**2/error_day**2 + (R_night[0,0] - data_night)**2/error_night**2  ) "
   ]
  },
  {
   "cell_type": "code",
   "execution_count": 8,
   "id": "89162d1b",
   "metadata": {},
   "outputs": [
    {
     "name": "stdout",
     "output_type": "stream",
     "text": [
      "-0.03490369741861208\n",
      "-1.3499309952857197\n"
     ]
    }
   ],
   "source": [
    "print(LogLikelihood(0.308, 6.9, 0., 0.))\n",
    "\n",
    "print(LogLikelihood(0.310, 7.5, 0.11, 0.74))"
   ]
  },
  {
   "cell_type": "code",
   "execution_count": null,
   "id": "0c4d18e3",
   "metadata": {},
   "outputs": [],
   "source": [
    "info = {\"likelihood\": {\"Chi2\": LogLikelihood},\n",
    "        \n",
    "        \"params\": dict([(\"sint12\" , {\"prior\" : {\"dist\": 'norm', \"loc\": 0.310, \"scale\" : 0.012},\n",
    "                                  \"latex\" : r\"\\sin(\\theta_{12})^2\"  \n",
    "                                  }),\n",
    "\n",
    "                        \n",
    "                        (\"m12\"    , {\"prior\" : {\"dist\": 'norm', \"loc\": 7.51, \"scale\": 0.19},\n",
    "                                  \"latex\": r\"\\Delta m^2_{21} \\ \\rm 10^{-5} \\ eV^2\"  \n",
    "                                  }), \n",
    "                        \n",
    "                        (\"mu2\"    , {\"prior\" : {\"min\": 0, \"max\": 0.15},\n",
    "                                   \"latex\" : r\"\\tilde{\\mu}^2/2 \"  \n",
    "                                   }),\n",
    "                        \n",
    "                        # (\"alpha\"  , {\"prior\" : {\"min\": 0, \"max\": np.pi},\n",
    "                        #            \"latex\" : r\"\\alpha \"  \n",
    "                        #            }),\n",
    "\n",
    "                      \n",
    "                        (\"eps\"  , {\"prior\" : {\"min\": 0, \"max\": 1.},\n",
    "                                   \"latex\" : r\"\\epsilon \"  \n",
    "                                   })\n",
    "\n",
    "                        # (\"alpha_eps\"  , {\"prior\" : {\"min\": 0, \"max\": np.pi},\n",
    "                        #            \"latex\" : r\"\\alpha_\\epsilon \"  \n",
    "                        #            }), \n",
    "\n",
    "\n",
    "                        # (\"mdm\", {\"prior\" : {\"min\": 1, \"max\": 10},\n",
    "                        #            \"latex\": r\"m_{\\rm dm}\"  \n",
    "                        #           }) \n",
    "                        \n",
    "                        ]),\n",
    "        \n",
    "        \"sampler\": {\"mcmc\": {\"Rminus1_stop\": 0.01, \"max_tries\": 100000 }},\n",
    "        \"output\" : \"output10/run_info\"\n",
    "       }"
   ]
  },
  {
   "cell_type": "code",
   "execution_count": 7,
   "id": "cda34843",
   "metadata": {},
   "outputs": [],
   "source": [
    "#updated_info,sampler = run(info)"
   ]
  },
  {
   "cell_type": "code",
   "execution_count": null,
   "id": "195c8a0d",
   "metadata": {},
   "outputs": [],
   "source": []
  }
 ],
 "metadata": {
  "kernelspec": {
   "display_name": "peanuts",
   "language": "python",
   "name": "python3"
  },
  "language_info": {
   "codemirror_mode": {
    "name": "ipython",
    "version": 3
   },
   "file_extension": ".py",
   "mimetype": "text/x-python",
   "name": "python",
   "nbconvert_exporter": "python",
   "pygments_lexer": "ipython3",
   "version": "3.9.20"
  }
 },
 "nbformat": 4,
 "nbformat_minor": 5
}
