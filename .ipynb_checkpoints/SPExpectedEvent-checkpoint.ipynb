{
 "cells": [
  {
   "cell_type": "code",
   "execution_count": 9,
   "id": "511b61ec",
   "metadata": {},
   "outputs": [
    {
     "name": "stdout",
     "output_type": "stream",
     "text": [
      "294.87263453678986\n"
     ]
    }
   ],
   "source": [
    "\"\"\"fraction of expected number of event over number of event assuming no oscilation (294.7 )\n",
    "Earth matter efect is not included\n",
    "\"\"\"\n",
    "\n",
    "from framework import FrameWork\n",
    "from survival_probablity import MSW,PseudoDirac\n",
    "\n",
    "import numpy as np\n",
    "import pandas as pd\n",
    "import matplotlib.pyplot as plt\n",
    "plt.rcParams['text.usetex']=True\n",
    "plt.style.use('classic')\n",
    "\n",
    "\n",
    "frame      = FrameWork(resolution_correction=False, masked_val=0.1)\n",
    "spectrum   = frame.spectrum_nu\n",
    "\n",
    "t_recoil = np.concatenate((np.logspace(-5,-2,30),frame.energy_recoil))\n",
    "electron_cross_section = frame._compute_cross_section(frame.energy_nu,t_recoil,1)\n",
    "moun_cross_section     = frame._compute_cross_section(frame.energy_nu,t_recoil,-1)\n",
    "\n",
    "integral_electron_mc = np.zeros(len(t_recoil))\n",
    "k = 0\n",
    "for i in range (len(t_recoil)):\n",
    "    if t_recoil[i]<frame.energy_recoil[0]:\n",
    "        integral_electron_mc[i] = np.trapz(frame.spectrum_nu*electron_cross_section[i,:],frame.energy_nu)\n",
    "    else:\n",
    "        integral_electron_mc[i] = np.trapz(frame.spectrum_nu[k:]*electron_cross_section[i,k:],frame.energy_nu[k:])\n",
    "        k = k+1\n",
    "\n",
    "total_volume  = 32.5\n",
    "total_days    = 1\n",
    "\n",
    "\n",
    "target_number = (10/18)*(1/1.67)*6.*6.*24. #per day per kilo ton 10^35\n",
    "mc_expected_event = total_days*total_volume*target_number*5.25e-4*np.trapz(integral_electron_mc,t_recoil_tot)\n",
    "\n",
    "print(mc_expected_event)"
   ]
  },
  {
   "cell_type": "code",
   "execution_count": 8,
   "id": "e7a84ad1",
   "metadata": {},
   "outputs": [
    {
     "data": {
      "text/plain": [
       "[<matplotlib.lines.Line2D at 0x126bec070>]"
      ]
     },
     "execution_count": 8,
     "metadata": {},
     "output_type": "execute_result"
    },
    {
     "data": {
      "image/png": "[encoded data removed]",
      "text/plain": [
       "<Figure size 640x480 with 1 Axes>"
      ]
     },
     "metadata": {},
     "output_type": "display_data"
    }
   ],
   "source": [
    "#distance = np.linspace(0.98,1.2,50)\n",
    "#survival_probablity,sterile_probablity = PseudoDirac(frame.param,distance,e_neutrino)\n",
    "#survival_probablity = np.mean(survival_probablity,axis=0)\n",
    "\n",
    "frame.param.update({'SinT12': 0.319, 'M12': 7.51e-5})\n",
    "survival_probablity = MSW(frame.param,frame.energy_nu)\n",
    "\n",
    "plt.xscale('log')\n",
    "plt.plot(frame.energy_nu,survival_probablity,'.')"
   ]
  },
  {
   "cell_type": "code",
   "execution_count": 10,
   "id": "3737d454",
   "metadata": {},
   "outputs": [],
   "source": [
    "integral_electron = np.zeros(len(t_recoil))\n",
    "integral_moun  = np.zeros(len(t_recoil))\n",
    "k = 0\n",
    "for i in range (len(t_recoil)):\n",
    "    if t_recoil_tot[i] < frame.energy_recoil[0]:\n",
    "        integral_electron[i] = np.trapz(frame.spectrum_nu*electron_cross_section[i,:]*survival_probablity,\n",
    "                                          frame.energy_nu)\n",
    "        integral_moun[i] = np.trapz(frame.spectrum_nu*moun_cross_section[i,:]*(1-survival_probablity),\n",
    "                                          frame.energy_nu)\n",
    "    else:\n",
    "        integral_electron[i]= np.trapz(frame.spectrum_nu[k:]*electron_cross_section[i,k:]*\n",
    "                                         survival_probablity[k:],frame.energy_nu[k:])\n",
    "        integral_moun[i] = np.trapz(frame.spectrum_nu[k:]*moun_cross_section[i,k:]*(1-survival_probablity[k:]),\n",
    "                                              frame.energy_nu[k:])\n",
    "        k = k+1\n",
    "        \n",
    "        \n",
    "sp_expected_event_e = total_days*total_volume*target_number*5.25e-4*np.trapz(integral_electron,t_recoil)\n",
    "sp_expected_event_m = total_days*total_volume*target_number*5.25e-4*np.trapz(integral_moun,t_recoil)"
   ]
  },
  {
   "cell_type": "code",
   "execution_count": 11,
   "id": "0f01da3c",
   "metadata": {},
   "outputs": [
    {
     "name": "stdout",
     "output_type": "stream",
     "text": [
      "0.4721736254732085\n"
     ]
    }
   ],
   "source": [
    "print((sp_expected_event_e+sp_expected_event_m)/mc_expected_event)"
   ]
  },
  {
   "cell_type": "code",
   "execution_count": null,
   "id": "58f5c7db",
   "metadata": {},
   "outputs": [],
   "source": []
  }
 ],
 "metadata": {
  "kernelspec": {
   "display_name": "Python 3 (ipykernel)",
   "language": "python",
   "name": "python3"
  },
  "language_info": {
   "codemirror_mode": {
    "name": "ipython",
    "version": 3
   },
   "file_extension": ".py",
   "mimetype": "text/x-python",
   "name": "python",
   "nbconvert_exporter": "python",
   "pygments_lexer": "ipython3",
   "version": "3.9.12"
  }
 },
 "nbformat": 4,
 "nbformat_minor": 5
}
