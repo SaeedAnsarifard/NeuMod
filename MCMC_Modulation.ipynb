{
 "cells": [
  {
   "cell_type": "code",
   "execution_count": 1,
   "id": "511b61ec",
   "metadata": {},
   "outputs": [
    {
     "name": "stdout",
     "output_type": "stream",
     "text": [
      "Warning!: Python module pyslha not found, disabling slha reading routines\n"
     ]
    }
   ],
   "source": [
    "import numpy as np\n",
    "\n",
    "from framework_pkg.framework import FrameWork\n",
    "from framework_pkg.framework import bin_prediction\n",
    "\n",
    "from cobaya.run import run\n",
    "\n",
    "import warnings\n",
    "warnings.filterwarnings('ignore')\n"
   ]
  },
  {
   "cell_type": "code",
   "execution_count": 2,
   "id": "5709f3ad",
   "metadata": {},
   "outputs": [],
   "source": [
    "param ={'SinT12'  : 0.308 ,\n",
    "        'T13'  : 8.57, \n",
    "        'mu1'  : 0.,\n",
    "        'mu2'  : 0., \n",
    "        'mu3'  : 0.  ,\n",
    "        'mdm'  : 9.02e-4 , \n",
    "        'alpha': 0.  ,\n",
    "        'eps' : 0.  ,\n",
    "        'alpha_eps' : 0.  ,\n",
    "        'M12'  : 6.9e-5 }\n",
    "\n",
    "fw_modulation = FrameWork(threshold=4.5, bin_max=13, lat=36, efficiency_correction=True, resolution_correction=False)\n",
    "total_days = fw_modulation.time_day\n",
    "\n",
    "exposure = np.loadtxt('./Data/time_exposures_1.txt') \n",
    "\n",
    "data = np.loadtxt('./Data/modulation_data.txt')\n",
    "sigma_p = 0.014\n",
    "mean_data = np.mean(data[:,1])"
   ]
  },
  {
   "cell_type": "code",
   "execution_count": 3,
   "id": "d5e3489c",
   "metadata": {},
   "outputs": [],
   "source": [
    "def LogLikelihood(sint12, m12, mdm, mu2, alpha, eps, alpha_eps, delta_p):\n",
    "    param['SinT12'] = sint12\n",
    "    param['M12'] = m12 * 1e-5\n",
    "\n",
    "    param['mu2'] = mu2\n",
    "    param['alpha'] = alpha\n",
    "    param['eps'] = eps\n",
    "    param['alpha_eps'] = alpha_eps\n",
    "\n",
    "    param['mdm'] = mdm * 2e-4\n",
    "\n",
    "    raw_result = fw_modulation.__getitem__(param) \n",
    "    _, _, R_bin_total = bin_prediction(raw_result, exposure, total_days)\n",
    "        \n",
    "    prediction = R_bin_total[:, 0] * ( 1 - delta_p * sigma_p)\n",
    "    prediction = prediction - np.mean(prediction)\n",
    "\n",
    "    cond1 = data[:,1] - mean_data >= prediction\n",
    "    cond2 = data[:,1] - mean_data < prediction\n",
    "    lower_part  = (data[cond1,1] - mean_data - prediction[cond1])**2 / data[cond1,3]**2\n",
    "    upper_part = (data[cond2,1] - mean_data - prediction[cond2])**2 / data[cond2,2]**2\n",
    "\n",
    "    return -0.5 * ( np.sum(lower_part) + np.sum(upper_part) + delta_p**2 ) "
   ]
  },
  {
   "cell_type": "code",
   "execution_count": 4,
   "id": "43872ec4",
   "metadata": {},
   "outputs": [
    {
     "name": "stdout",
     "output_type": "stream",
     "text": [
      "-422.829180202607\n",
      "-413.3949230649136\n"
     ]
    }
   ],
   "source": [
    "print(LogLikelihood(0.308, 7.22, 4.97, 0., 0., 0., 0., 0.))\n",
    "\n",
    "print(LogLikelihood(0.300, 7.66, 5.3, 0.127, 0.945, 0.827, 2.33, 0.25))"
   ]
  },
  {
   "cell_type": "code",
   "execution_count": 10,
   "id": "f984006b",
   "metadata": {},
   "outputs": [],
   "source": [
    "info = {\"likelihood\": {\"Chi2\": LogLikelihood},\n",
    "        \n",
    "        \"params\": dict([(\"sint12\" , {\"prior\" : {\"min\": 0.275, \"max\": 0.345},\n",
    "                                  \"latex\" : r\"\\sin(\\theta_{12})^2\"  \n",
    "                                  }),\n",
    "\n",
    "                        \n",
    "                        (\"m12\"    , {\"prior\" : {\"min\": 6.92, \"max\": 8.05},\n",
    "                                  \"latex\": r\"\\Delta m^2_{21} \\ \\rm 10^{-5} \\ eV^2\"  \n",
    "                                  }), \n",
    "                        \n",
    "                        (\"mu2\"    , {\"prior\" : {\"min\": 0, \"max\": 0.25},\n",
    "                                   \"latex\" : r\"\\tilde{\\mu}^2/2 \"  \n",
    "                                   }),\n",
    "                        \n",
    "                        (\"alpha\"  , {\"prior\" : {\"min\": 0, \"max\": np.pi},\n",
    "                                   \"latex\" : r\"\\alpha \"  \n",
    "                                   }),\n",
    "                        \n",
    "                        (\"eps\"  , {\"prior\" : {\"min\": 0, \"max\": 1.},\n",
    "                                   \"latex\" : r\"\\epsilon \"  \n",
    "                                   }),\n",
    "\n",
    "                        (\"alpha_eps\"  , {\"prior\" : {\"min\": 0, \"max\": np.pi},\n",
    "                                   \"latex\" : r\"\\alpha_\\epsilon \"  \n",
    "                                   }), \n",
    "\n",
    "                        (\"delta_p\", {\"prior\" : {\"dist\": 'norm', \"loc\": 0, \"scale\": 1},\n",
    "                                  \"latex\": r\"\\delta_p\"  \n",
    "                                  }) ,\n",
    "\n",
    "                        (\"mdm\", {\"prior\" : {\"min\": 1, \"max\": 10},\n",
    "                                   \"latex\": r\"m_{\\rm dm}\"  \n",
    "                                  }) \n",
    "                        \n",
    "                        ]),\n",
    "        \n",
    "        \"sampler\": {\"mcmc\": {\"Rminus1_stop\": 0.01, \"max_tries\": 100000 }},\n",
    "        \"output\" : \"output8/run_info\"\n",
    "       }"
   ]
  },
  {
   "cell_type": "code",
   "execution_count": null,
   "id": "c6a70b2e",
   "metadata": {},
   "outputs": [],
   "source": [
    "#updated_info,sampler = run(info)"
   ]
  }
 ],
 "metadata": {
  "kernelspec": {
   "display_name": "peanuts",
   "language": "python",
   "name": "python3"
  },
  "language_info": {
   "codemirror_mode": {
    "name": "ipython",
    "version": 3
   },
   "file_extension": ".py",
   "mimetype": "text/x-python",
   "name": "python",
   "nbconvert_exporter": "python",
   "pygments_lexer": "ipython3",
   "version": "3.9.20"
  }
 },
 "nbformat": 4,
 "nbformat_minor": 5
}
